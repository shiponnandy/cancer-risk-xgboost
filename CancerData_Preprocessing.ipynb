{
  "nbformat": 4,
  "nbformat_minor": 0,
  "metadata": {
    "colab": {
      "provenance": []
    },
    "kernelspec": {
      "name": "python3",
      "display_name": "Python 3"
    },
    "language_info": {
      "name": "python"
    }
  },
  "cells": [
    {
      "cell_type": "code",
      "execution_count": 12,
      "metadata": {
        "colab": {
          "base_uri": "https://localhost:8080/"
        },
        "id": "xQ8CPWVNOhbM",
        "outputId": "dca7e634-e091-4e6c-c7e2-2525f4106cd7"
      },
      "outputs": [
        {
          "output_type": "stream",
          "name": "stdout",
          "text": [
            "Mounted at /content/drive\n"
          ]
        }
      ],
      "source": [
        "from google.colab import drive\n",
        "drive.mount('/content/drive')"
      ]
    },
    {
      "cell_type": "code",
      "source": [
        "import pandas as pd\n",
        "import numpy as np\n",
        "import matplotlib.pyplot as plt\n",
        "import seaborn as sns"
      ],
      "metadata": {
        "id": "OmxqeuKtOvzp"
      },
      "execution_count": 13,
      "outputs": []
    },
    {
      "cell_type": "code",
      "source": [
        "folder = \"/content/drive/MyDrive/Colab Notebooks/DATASET/cancer/\""
      ],
      "metadata": {
        "id": "fpaeIfT9kKAi"
      },
      "execution_count": 14,
      "outputs": []
    },
    {
      "cell_type": "code",
      "source": [
        "df_train = pd.read_csv(folder + 'train.csv')\n",
        "df_test = pd.read_csv(folder + 'test.csv')"
      ],
      "metadata": {
        "id": "WYsO6m82qLpL"
      },
      "execution_count": 15,
      "outputs": []
    },
    {
      "cell_type": "code",
      "source": [
        "print(df_train.shape)\n",
        "print(df_test.shape)"
      ],
      "metadata": {
        "colab": {
          "base_uri": "https://localhost:8080/"
        },
        "id": "Mzay-3dNqTyt",
        "outputId": "a4ba06e7-2f8d-4ba6-96ff-6857fa88480a"
      },
      "execution_count": 16,
      "outputs": [
        {
          "output_type": "stream",
          "name": "stdout",
          "text": [
            "(400, 14574)\n",
            "(401, 14573)\n"
          ]
        }
      ]
    },
    {
      "cell_type": "code",
      "source": [
        "df_train.isnull().sum().sum()"
      ],
      "metadata": {
        "colab": {
          "base_uri": "https://localhost:8080/"
        },
        "id": "3X9fcYJ3qXb-",
        "outputId": "cc68ac43-fccb-4720-9904-ec6c5009be2f"
      },
      "execution_count": 17,
      "outputs": [
        {
          "output_type": "execute_result",
          "data": {
            "text/plain": [
              "np.int64(482296)"
            ]
          },
          "metadata": {},
          "execution_count": 17
        }
      ]
    },
    {
      "cell_type": "code",
      "source": [
        "df_train.columns[df_train.isnull().any()]"
      ],
      "metadata": {
        "colab": {
          "base_uri": "https://localhost:8080/"
        },
        "id": "IT2jyz5sqedx",
        "outputId": "a49bf00c-f820-460b-a025-89fedf10dc93"
      },
      "execution_count": 18,
      "outputs": [
        {
          "output_type": "execute_result",
          "data": {
            "text/plain": [
              "Index(['gene_1', 'gene_3', 'gene_5', 'gene_7', 'gene_8', 'gene_9', 'gene_10',\n",
              "       'gene_11', 'gene_13', 'gene_14',\n",
              "       ...\n",
              "       'gene_20634', 'gene_20635', 'gene_20636', 'gene_20637', 'gene_20638',\n",
              "       'gene_20639', 'gene_20640', 'gene_20641', 'gene_20642', 'Class'],\n",
              "      dtype='object', length=14573)"
            ]
          },
          "metadata": {},
          "execution_count": 18
        }
      ]
    },
    {
      "cell_type": "code",
      "source": [
        "# Calculating the fraction of missing values per column\n",
        "missing_frac = df_train.isnull().mean()\n",
        "\n",
        "# Filter columns where missing fraction is greater than 0.15 (15%)\n",
        "cols_with_many_nans = missing_frac[missing_frac > 0.15]\n",
        "\n",
        "# Show the result\n",
        "print(\"Columns with > 15% missing values:\")\n",
        "print(cols_with_many_nans)"
      ],
      "metadata": {
        "colab": {
          "base_uri": "https://localhost:8080/"
        },
        "id": "20-otFMMqger",
        "outputId": "bdc2ef1d-f47c-4d0f-b58d-3f80e58a3095"
      },
      "execution_count": 19,
      "outputs": [
        {
          "output_type": "stream",
          "name": "stdout",
          "text": [
            "Columns with > 15% missing values:\n",
            "Class    0.625\n",
            "dtype: float64\n"
          ]
        }
      ]
    },
    {
      "cell_type": "code",
      "source": [
        "df_train['Class'].isnull().sum()"
      ],
      "metadata": {
        "colab": {
          "base_uri": "https://localhost:8080/"
        },
        "id": "_pYxaFRdql1Z",
        "outputId": "e3fa4930-2602-4e47-825a-86b9edeb4772"
      },
      "execution_count": 20,
      "outputs": [
        {
          "output_type": "execute_result",
          "data": {
            "text/plain": [
              "np.int64(250)"
            ]
          },
          "metadata": {},
          "execution_count": 20
        }
      ]
    },
    {
      "cell_type": "code",
      "source": [
        "df_labeled = df_train[df_train['Class'].notnull()]\n",
        "df_unlabeled = df_train[df_train['Class'].isnull()]\n",
        "\n",
        "print(df_labeled.shape)\n",
        "print(df_unlabeled.shape)"
      ],
      "metadata": {
        "colab": {
          "base_uri": "https://localhost:8080/"
        },
        "id": "5xqD10yAqq7l",
        "outputId": "55b7b5cb-069d-4c57-9dc7-bf056f782fde"
      },
      "execution_count": 21,
      "outputs": [
        {
          "output_type": "stream",
          "name": "stdout",
          "text": [
            "(150, 14574)\n",
            "(250, 14574)\n"
          ]
        }
      ]
    },
    {
      "cell_type": "code",
      "source": [
        "# prepare train set\n",
        "X_labeled = df_labeled.drop(['Class', 'Id'], axis=1)\n",
        "y_labeled = df_labeled['Class']\n",
        "\n",
        "X_unlabeled = df_unlabeled.drop(['Class', 'Id'], axis=1)\n",
        "\n",
        "id_labeled = df_labeled['Id']\n",
        "id_unlabeled = df_labeled['Id']\n",
        "\n",
        "# Prepare test set\n",
        "X_test = df_test.drop(columns=['Id'])\n",
        "id_test = df_test['Id']"
      ],
      "metadata": {
        "id": "XOAFydkdqzYb"
      },
      "execution_count": 22,
      "outputs": []
    },
    {
      "cell_type": "code",
      "source": [
        "X_labeled.describe()"
      ],
      "metadata": {
        "colab": {
          "base_uri": "https://localhost:8080/",
          "height": 349
        },
        "id": "VNMEoi2jq21F",
        "outputId": "e0023e38-218f-4cef-8fa3-668e408a801f"
      },
      "execution_count": 23,
      "outputs": [
        {
          "output_type": "execute_result",
          "data": {
            "text/plain": [
              "           gene_1      gene_3      gene_5      gene_7      gene_8      gene_9  \\\n",
              "count  144.000000  145.000000  130.000000  137.000000  137.000000  141.000000   \n",
              "mean     0.105503    0.174310    0.122216   -0.033608    0.055635    0.013400   \n",
              "std      1.149516    1.125815    1.089985    0.988165    1.010969    0.937667   \n",
              "min     -2.268993   -1.897882   -3.255536   -2.853971   -5.737839   -4.079731   \n",
              "25%     -0.574300   -0.518498   -0.340409   -0.581869   -0.319298   -0.402070   \n",
              "50%      0.044354   -0.033128   -0.019993   -0.170794   -0.006563   -0.058927   \n",
              "75%      0.579953    0.713707    0.380052    0.431423    0.387882    0.323775   \n",
              "max      7.714353    6.495396    5.857435    4.697492    3.157187    5.116117   \n",
              "\n",
              "          gene_10     gene_11     gene_13     gene_14  ...  gene_20633  \\\n",
              "count  139.000000  139.000000  134.000000  138.000000  ...  141.000000   \n",
              "mean     0.050186    0.045033    0.109700   -0.152896  ...    0.001744   \n",
              "std      0.910798    1.037524    1.289071    1.070622  ...    1.070241   \n",
              "min     -1.672210   -1.798695   -3.206376   -5.329013  ...   -2.999819   \n",
              "25%     -0.486414   -0.578032   -0.471524   -0.590828  ...   -0.631511   \n",
              "50%     -0.177461   -0.185885   -0.126604   -0.270686  ...    0.004725   \n",
              "75%      0.237998    0.442106    0.290939    0.210251  ...    0.681192   \n",
              "max      3.992366    4.962688    9.351831    4.598364  ...    2.971938   \n",
              "\n",
              "       gene_20634  gene_20635  gene_20636  gene_20637  gene_20638  gene_20639  \\\n",
              "count  134.000000  141.000000  136.000000  129.000000  137.000000  138.000000   \n",
              "mean    -0.115262   -0.101433   -0.027796    0.037297    0.067865   -0.115622   \n",
              "std      1.038718    1.016230    1.058892    0.975136    1.061892    1.040832   \n",
              "min     -4.137839   -3.406653   -3.624227   -3.221455   -2.652422   -4.904563   \n",
              "25%     -0.804145   -0.650281   -0.666380   -0.426220   -0.488057   -0.856349   \n",
              "50%      0.073459    0.125097    0.250630    0.054710   -0.060707   -0.000998   \n",
              "75%      0.610133    0.570470    0.750846    0.540747    0.513503    0.478038   \n",
              "max      2.163729    2.137905    2.223640    2.592613    5.228401    2.777126   \n",
              "\n",
              "       gene_20640  gene_20641  gene_20642  \n",
              "count  133.000000  136.000000  139.000000  \n",
              "mean    -0.059375   -0.004146   -0.015942  \n",
              "std      1.043010    0.930787    1.033081  \n",
              "min     -4.187460   -2.437325   -2.448014  \n",
              "25%     -0.655772   -0.554579   -0.568422  \n",
              "50%     -0.047192    0.037276   -0.077423  \n",
              "75%      0.534442    0.565863    0.592318  \n",
              "max      3.186559    1.756369    6.022439  \n",
              "\n",
              "[8 rows x 14572 columns]"
            ],
            "text/html": [
              "\n",
              "  <div id=\"df-b1519966-2dbd-4b5b-b28c-5ae9fadeaaa9\" class=\"colab-df-container\">\n",
              "    <div>\n",
              "<style scoped>\n",
              "    .dataframe tbody tr th:only-of-type {\n",
              "        vertical-align: middle;\n",
              "    }\n",
              "\n",
              "    .dataframe tbody tr th {\n",
              "        vertical-align: top;\n",
              "    }\n",
              "\n",
              "    .dataframe thead th {\n",
              "        text-align: right;\n",
              "    }\n",
              "</style>\n",
              "<table border=\"1\" class=\"dataframe\">\n",
              "  <thead>\n",
              "    <tr style=\"text-align: right;\">\n",
              "      <th></th>\n",
              "      <th>gene_1</th>\n",
              "      <th>gene_3</th>\n",
              "      <th>gene_5</th>\n",
              "      <th>gene_7</th>\n",
              "      <th>gene_8</th>\n",
              "      <th>gene_9</th>\n",
              "      <th>gene_10</th>\n",
              "      <th>gene_11</th>\n",
              "      <th>gene_13</th>\n",
              "      <th>gene_14</th>\n",
              "      <th>...</th>\n",
              "      <th>gene_20633</th>\n",
              "      <th>gene_20634</th>\n",
              "      <th>gene_20635</th>\n",
              "      <th>gene_20636</th>\n",
              "      <th>gene_20637</th>\n",
              "      <th>gene_20638</th>\n",
              "      <th>gene_20639</th>\n",
              "      <th>gene_20640</th>\n",
              "      <th>gene_20641</th>\n",
              "      <th>gene_20642</th>\n",
              "    </tr>\n",
              "  </thead>\n",
              "  <tbody>\n",
              "    <tr>\n",
              "      <th>count</th>\n",
              "      <td>144.000000</td>\n",
              "      <td>145.000000</td>\n",
              "      <td>130.000000</td>\n",
              "      <td>137.000000</td>\n",
              "      <td>137.000000</td>\n",
              "      <td>141.000000</td>\n",
              "      <td>139.000000</td>\n",
              "      <td>139.000000</td>\n",
              "      <td>134.000000</td>\n",
              "      <td>138.000000</td>\n",
              "      <td>...</td>\n",
              "      <td>141.000000</td>\n",
              "      <td>134.000000</td>\n",
              "      <td>141.000000</td>\n",
              "      <td>136.000000</td>\n",
              "      <td>129.000000</td>\n",
              "      <td>137.000000</td>\n",
              "      <td>138.000000</td>\n",
              "      <td>133.000000</td>\n",
              "      <td>136.000000</td>\n",
              "      <td>139.000000</td>\n",
              "    </tr>\n",
              "    <tr>\n",
              "      <th>mean</th>\n",
              "      <td>0.105503</td>\n",
              "      <td>0.174310</td>\n",
              "      <td>0.122216</td>\n",
              "      <td>-0.033608</td>\n",
              "      <td>0.055635</td>\n",
              "      <td>0.013400</td>\n",
              "      <td>0.050186</td>\n",
              "      <td>0.045033</td>\n",
              "      <td>0.109700</td>\n",
              "      <td>-0.152896</td>\n",
              "      <td>...</td>\n",
              "      <td>0.001744</td>\n",
              "      <td>-0.115262</td>\n",
              "      <td>-0.101433</td>\n",
              "      <td>-0.027796</td>\n",
              "      <td>0.037297</td>\n",
              "      <td>0.067865</td>\n",
              "      <td>-0.115622</td>\n",
              "      <td>-0.059375</td>\n",
              "      <td>-0.004146</td>\n",
              "      <td>-0.015942</td>\n",
              "    </tr>\n",
              "    <tr>\n",
              "      <th>std</th>\n",
              "      <td>1.149516</td>\n",
              "      <td>1.125815</td>\n",
              "      <td>1.089985</td>\n",
              "      <td>0.988165</td>\n",
              "      <td>1.010969</td>\n",
              "      <td>0.937667</td>\n",
              "      <td>0.910798</td>\n",
              "      <td>1.037524</td>\n",
              "      <td>1.289071</td>\n",
              "      <td>1.070622</td>\n",
              "      <td>...</td>\n",
              "      <td>1.070241</td>\n",
              "      <td>1.038718</td>\n",
              "      <td>1.016230</td>\n",
              "      <td>1.058892</td>\n",
              "      <td>0.975136</td>\n",
              "      <td>1.061892</td>\n",
              "      <td>1.040832</td>\n",
              "      <td>1.043010</td>\n",
              "      <td>0.930787</td>\n",
              "      <td>1.033081</td>\n",
              "    </tr>\n",
              "    <tr>\n",
              "      <th>min</th>\n",
              "      <td>-2.268993</td>\n",
              "      <td>-1.897882</td>\n",
              "      <td>-3.255536</td>\n",
              "      <td>-2.853971</td>\n",
              "      <td>-5.737839</td>\n",
              "      <td>-4.079731</td>\n",
              "      <td>-1.672210</td>\n",
              "      <td>-1.798695</td>\n",
              "      <td>-3.206376</td>\n",
              "      <td>-5.329013</td>\n",
              "      <td>...</td>\n",
              "      <td>-2.999819</td>\n",
              "      <td>-4.137839</td>\n",
              "      <td>-3.406653</td>\n",
              "      <td>-3.624227</td>\n",
              "      <td>-3.221455</td>\n",
              "      <td>-2.652422</td>\n",
              "      <td>-4.904563</td>\n",
              "      <td>-4.187460</td>\n",
              "      <td>-2.437325</td>\n",
              "      <td>-2.448014</td>\n",
              "    </tr>\n",
              "    <tr>\n",
              "      <th>25%</th>\n",
              "      <td>-0.574300</td>\n",
              "      <td>-0.518498</td>\n",
              "      <td>-0.340409</td>\n",
              "      <td>-0.581869</td>\n",
              "      <td>-0.319298</td>\n",
              "      <td>-0.402070</td>\n",
              "      <td>-0.486414</td>\n",
              "      <td>-0.578032</td>\n",
              "      <td>-0.471524</td>\n",
              "      <td>-0.590828</td>\n",
              "      <td>...</td>\n",
              "      <td>-0.631511</td>\n",
              "      <td>-0.804145</td>\n",
              "      <td>-0.650281</td>\n",
              "      <td>-0.666380</td>\n",
              "      <td>-0.426220</td>\n",
              "      <td>-0.488057</td>\n",
              "      <td>-0.856349</td>\n",
              "      <td>-0.655772</td>\n",
              "      <td>-0.554579</td>\n",
              "      <td>-0.568422</td>\n",
              "    </tr>\n",
              "    <tr>\n",
              "      <th>50%</th>\n",
              "      <td>0.044354</td>\n",
              "      <td>-0.033128</td>\n",
              "      <td>-0.019993</td>\n",
              "      <td>-0.170794</td>\n",
              "      <td>-0.006563</td>\n",
              "      <td>-0.058927</td>\n",
              "      <td>-0.177461</td>\n",
              "      <td>-0.185885</td>\n",
              "      <td>-0.126604</td>\n",
              "      <td>-0.270686</td>\n",
              "      <td>...</td>\n",
              "      <td>0.004725</td>\n",
              "      <td>0.073459</td>\n",
              "      <td>0.125097</td>\n",
              "      <td>0.250630</td>\n",
              "      <td>0.054710</td>\n",
              "      <td>-0.060707</td>\n",
              "      <td>-0.000998</td>\n",
              "      <td>-0.047192</td>\n",
              "      <td>0.037276</td>\n",
              "      <td>-0.077423</td>\n",
              "    </tr>\n",
              "    <tr>\n",
              "      <th>75%</th>\n",
              "      <td>0.579953</td>\n",
              "      <td>0.713707</td>\n",
              "      <td>0.380052</td>\n",
              "      <td>0.431423</td>\n",
              "      <td>0.387882</td>\n",
              "      <td>0.323775</td>\n",
              "      <td>0.237998</td>\n",
              "      <td>0.442106</td>\n",
              "      <td>0.290939</td>\n",
              "      <td>0.210251</td>\n",
              "      <td>...</td>\n",
              "      <td>0.681192</td>\n",
              "      <td>0.610133</td>\n",
              "      <td>0.570470</td>\n",
              "      <td>0.750846</td>\n",
              "      <td>0.540747</td>\n",
              "      <td>0.513503</td>\n",
              "      <td>0.478038</td>\n",
              "      <td>0.534442</td>\n",
              "      <td>0.565863</td>\n",
              "      <td>0.592318</td>\n",
              "    </tr>\n",
              "    <tr>\n",
              "      <th>max</th>\n",
              "      <td>7.714353</td>\n",
              "      <td>6.495396</td>\n",
              "      <td>5.857435</td>\n",
              "      <td>4.697492</td>\n",
              "      <td>3.157187</td>\n",
              "      <td>5.116117</td>\n",
              "      <td>3.992366</td>\n",
              "      <td>4.962688</td>\n",
              "      <td>9.351831</td>\n",
              "      <td>4.598364</td>\n",
              "      <td>...</td>\n",
              "      <td>2.971938</td>\n",
              "      <td>2.163729</td>\n",
              "      <td>2.137905</td>\n",
              "      <td>2.223640</td>\n",
              "      <td>2.592613</td>\n",
              "      <td>5.228401</td>\n",
              "      <td>2.777126</td>\n",
              "      <td>3.186559</td>\n",
              "      <td>1.756369</td>\n",
              "      <td>6.022439</td>\n",
              "    </tr>\n",
              "  </tbody>\n",
              "</table>\n",
              "<p>8 rows × 14572 columns</p>\n",
              "</div>\n",
              "    <div class=\"colab-df-buttons\">\n",
              "\n",
              "  <div class=\"colab-df-container\">\n",
              "    <button class=\"colab-df-convert\" onclick=\"convertToInteractive('df-b1519966-2dbd-4b5b-b28c-5ae9fadeaaa9')\"\n",
              "            title=\"Convert this dataframe to an interactive table.\"\n",
              "            style=\"display:none;\">\n",
              "\n",
              "  <svg xmlns=\"http://www.w3.org/2000/svg\" height=\"24px\" viewBox=\"0 -960 960 960\">\n",
              "    <path d=\"M120-120v-720h720v720H120Zm60-500h600v-160H180v160Zm220 220h160v-160H400v160Zm0 220h160v-160H400v160ZM180-400h160v-160H180v160Zm440 0h160v-160H620v160ZM180-180h160v-160H180v160Zm440 0h160v-160H620v160Z\"/>\n",
              "  </svg>\n",
              "    </button>\n",
              "\n",
              "  <style>\n",
              "    .colab-df-container {\n",
              "      display:flex;\n",
              "      gap: 12px;\n",
              "    }\n",
              "\n",
              "    .colab-df-convert {\n",
              "      background-color: #E8F0FE;\n",
              "      border: none;\n",
              "      border-radius: 50%;\n",
              "      cursor: pointer;\n",
              "      display: none;\n",
              "      fill: #1967D2;\n",
              "      height: 32px;\n",
              "      padding: 0 0 0 0;\n",
              "      width: 32px;\n",
              "    }\n",
              "\n",
              "    .colab-df-convert:hover {\n",
              "      background-color: #E2EBFA;\n",
              "      box-shadow: 0px 1px 2px rgba(60, 64, 67, 0.3), 0px 1px 3px 1px rgba(60, 64, 67, 0.15);\n",
              "      fill: #174EA6;\n",
              "    }\n",
              "\n",
              "    .colab-df-buttons div {\n",
              "      margin-bottom: 4px;\n",
              "    }\n",
              "\n",
              "    [theme=dark] .colab-df-convert {\n",
              "      background-color: #3B4455;\n",
              "      fill: #D2E3FC;\n",
              "    }\n",
              "\n",
              "    [theme=dark] .colab-df-convert:hover {\n",
              "      background-color: #434B5C;\n",
              "      box-shadow: 0px 1px 3px 1px rgba(0, 0, 0, 0.15);\n",
              "      filter: drop-shadow(0px 1px 2px rgba(0, 0, 0, 0.3));\n",
              "      fill: #FFFFFF;\n",
              "    }\n",
              "  </style>\n",
              "\n",
              "    <script>\n",
              "      const buttonEl =\n",
              "        document.querySelector('#df-b1519966-2dbd-4b5b-b28c-5ae9fadeaaa9 button.colab-df-convert');\n",
              "      buttonEl.style.display =\n",
              "        google.colab.kernel.accessAllowed ? 'block' : 'none';\n",
              "\n",
              "      async function convertToInteractive(key) {\n",
              "        const element = document.querySelector('#df-b1519966-2dbd-4b5b-b28c-5ae9fadeaaa9');\n",
              "        const dataTable =\n",
              "          await google.colab.kernel.invokeFunction('convertToInteractive',\n",
              "                                                    [key], {});\n",
              "        if (!dataTable) return;\n",
              "\n",
              "        const docLinkHtml = 'Like what you see? Visit the ' +\n",
              "          '<a target=\"_blank\" href=https://colab.research.google.com/notebooks/data_table.ipynb>data table notebook</a>'\n",
              "          + ' to learn more about interactive tables.';\n",
              "        element.innerHTML = '';\n",
              "        dataTable['output_type'] = 'display_data';\n",
              "        await google.colab.output.renderOutput(dataTable, element);\n",
              "        const docLink = document.createElement('div');\n",
              "        docLink.innerHTML = docLinkHtml;\n",
              "        element.appendChild(docLink);\n",
              "      }\n",
              "    </script>\n",
              "  </div>\n",
              "\n",
              "\n",
              "    <div id=\"df-6d6510a7-0b54-406c-ae2d-30e6420631a3\">\n",
              "      <button class=\"colab-df-quickchart\" onclick=\"quickchart('df-6d6510a7-0b54-406c-ae2d-30e6420631a3')\"\n",
              "                title=\"Suggest charts\"\n",
              "                style=\"display:none;\">\n",
              "\n",
              "<svg xmlns=\"http://www.w3.org/2000/svg\" height=\"24px\"viewBox=\"0 0 24 24\"\n",
              "     width=\"24px\">\n",
              "    <g>\n",
              "        <path d=\"M19 3H5c-1.1 0-2 .9-2 2v14c0 1.1.9 2 2 2h14c1.1 0 2-.9 2-2V5c0-1.1-.9-2-2-2zM9 17H7v-7h2v7zm4 0h-2V7h2v10zm4 0h-2v-4h2v4z\"/>\n",
              "    </g>\n",
              "</svg>\n",
              "      </button>\n",
              "\n",
              "<style>\n",
              "  .colab-df-quickchart {\n",
              "      --bg-color: #E8F0FE;\n",
              "      --fill-color: #1967D2;\n",
              "      --hover-bg-color: #E2EBFA;\n",
              "      --hover-fill-color: #174EA6;\n",
              "      --disabled-fill-color: #AAA;\n",
              "      --disabled-bg-color: #DDD;\n",
              "  }\n",
              "\n",
              "  [theme=dark] .colab-df-quickchart {\n",
              "      --bg-color: #3B4455;\n",
              "      --fill-color: #D2E3FC;\n",
              "      --hover-bg-color: #434B5C;\n",
              "      --hover-fill-color: #FFFFFF;\n",
              "      --disabled-bg-color: #3B4455;\n",
              "      --disabled-fill-color: #666;\n",
              "  }\n",
              "\n",
              "  .colab-df-quickchart {\n",
              "    background-color: var(--bg-color);\n",
              "    border: none;\n",
              "    border-radius: 50%;\n",
              "    cursor: pointer;\n",
              "    display: none;\n",
              "    fill: var(--fill-color);\n",
              "    height: 32px;\n",
              "    padding: 0;\n",
              "    width: 32px;\n",
              "  }\n",
              "\n",
              "  .colab-df-quickchart:hover {\n",
              "    background-color: var(--hover-bg-color);\n",
              "    box-shadow: 0 1px 2px rgba(60, 64, 67, 0.3), 0 1px 3px 1px rgba(60, 64, 67, 0.15);\n",
              "    fill: var(--button-hover-fill-color);\n",
              "  }\n",
              "\n",
              "  .colab-df-quickchart-complete:disabled,\n",
              "  .colab-df-quickchart-complete:disabled:hover {\n",
              "    background-color: var(--disabled-bg-color);\n",
              "    fill: var(--disabled-fill-color);\n",
              "    box-shadow: none;\n",
              "  }\n",
              "\n",
              "  .colab-df-spinner {\n",
              "    border: 2px solid var(--fill-color);\n",
              "    border-color: transparent;\n",
              "    border-bottom-color: var(--fill-color);\n",
              "    animation:\n",
              "      spin 1s steps(1) infinite;\n",
              "  }\n",
              "\n",
              "  @keyframes spin {\n",
              "    0% {\n",
              "      border-color: transparent;\n",
              "      border-bottom-color: var(--fill-color);\n",
              "      border-left-color: var(--fill-color);\n",
              "    }\n",
              "    20% {\n",
              "      border-color: transparent;\n",
              "      border-left-color: var(--fill-color);\n",
              "      border-top-color: var(--fill-color);\n",
              "    }\n",
              "    30% {\n",
              "      border-color: transparent;\n",
              "      border-left-color: var(--fill-color);\n",
              "      border-top-color: var(--fill-color);\n",
              "      border-right-color: var(--fill-color);\n",
              "    }\n",
              "    40% {\n",
              "      border-color: transparent;\n",
              "      border-right-color: var(--fill-color);\n",
              "      border-top-color: var(--fill-color);\n",
              "    }\n",
              "    60% {\n",
              "      border-color: transparent;\n",
              "      border-right-color: var(--fill-color);\n",
              "    }\n",
              "    80% {\n",
              "      border-color: transparent;\n",
              "      border-right-color: var(--fill-color);\n",
              "      border-bottom-color: var(--fill-color);\n",
              "    }\n",
              "    90% {\n",
              "      border-color: transparent;\n",
              "      border-bottom-color: var(--fill-color);\n",
              "    }\n",
              "  }\n",
              "</style>\n",
              "\n",
              "      <script>\n",
              "        async function quickchart(key) {\n",
              "          const quickchartButtonEl =\n",
              "            document.querySelector('#' + key + ' button');\n",
              "          quickchartButtonEl.disabled = true;  // To prevent multiple clicks.\n",
              "          quickchartButtonEl.classList.add('colab-df-spinner');\n",
              "          try {\n",
              "            const charts = await google.colab.kernel.invokeFunction(\n",
              "                'suggestCharts', [key], {});\n",
              "          } catch (error) {\n",
              "            console.error('Error during call to suggestCharts:', error);\n",
              "          }\n",
              "          quickchartButtonEl.classList.remove('colab-df-spinner');\n",
              "          quickchartButtonEl.classList.add('colab-df-quickchart-complete');\n",
              "        }\n",
              "        (() => {\n",
              "          let quickchartButtonEl =\n",
              "            document.querySelector('#df-6d6510a7-0b54-406c-ae2d-30e6420631a3 button');\n",
              "          quickchartButtonEl.style.display =\n",
              "            google.colab.kernel.accessAllowed ? 'block' : 'none';\n",
              "        })();\n",
              "      </script>\n",
              "    </div>\n",
              "\n",
              "    </div>\n",
              "  </div>\n"
            ],
            "application/vnd.google.colaboratory.intrinsic+json": {
              "type": "dataframe"
            }
          },
          "metadata": {},
          "execution_count": 23
        }
      ]
    },
    {
      "cell_type": "code",
      "source": [
        "X_unlabeled.describe()"
      ],
      "metadata": {
        "colab": {
          "base_uri": "https://localhost:8080/",
          "height": 349
        },
        "id": "62PP9Yflq-tJ",
        "outputId": "94861cfb-c455-4add-ec33-97526b7987c0"
      },
      "execution_count": 24,
      "outputs": [
        {
          "output_type": "execute_result",
          "data": {
            "text/plain": [
              "           gene_1      gene_3      gene_5      gene_7      gene_8      gene_9  \\\n",
              "count  233.000000  232.000000  229.000000  223.000000  229.000000  230.000000   \n",
              "mean    -0.029871   -0.050582    0.019415    0.068621    0.026485   -0.022167   \n",
              "std      0.994686    0.908877    1.075597    1.054320    1.009642    0.823841   \n",
              "min     -3.155312   -2.419660   -6.138127   -2.564795   -5.599804   -3.409599   \n",
              "25%     -0.718557   -0.566600   -0.463286   -0.610373   -0.411992   -0.419122   \n",
              "50%     -0.195574   -0.096317    0.031430   -0.219415   -0.017611    0.036046   \n",
              "75%      0.620953    0.426667    0.444142    0.480579    0.504129    0.385394   \n",
              "max      3.645606    3.274889    4.849526    4.325736    4.776318    2.618120   \n",
              "\n",
              "          gene_10     gene_11     gene_13     gene_14  ...  gene_20633  \\\n",
              "count  232.000000  231.000000  228.000000  229.000000  ...  223.000000   \n",
              "mean    -0.080981   -0.012606   -0.083978   -0.024108  ...    0.068190   \n",
              "std      0.807459    0.964595    1.003845    1.029493  ...    0.961455   \n",
              "min     -2.229974   -2.168291   -3.983165   -3.838602  ...   -2.552645   \n",
              "25%     -0.463044   -0.593196   -0.482497   -0.623405  ...   -0.441875   \n",
              "50%     -0.203048   -0.210088   -0.198510   -0.152018  ...    0.081271   \n",
              "75%      0.192898    0.291032    0.169774    0.488385  ...    0.634007   \n",
              "max      4.028705    4.661099    8.279023    4.019024  ...    2.557030   \n",
              "\n",
              "       gene_20634  gene_20635  gene_20636  gene_20637  gene_20638  gene_20639  \\\n",
              "count  242.000000  230.000000  230.000000  229.000000  227.000000  229.000000   \n",
              "mean    -0.022096    0.049693    0.030266   -0.114979   -0.052111    0.056072   \n",
              "std      1.043952    1.005027    1.061329    1.092028    1.086121    1.002925   \n",
              "min     -3.700996   -3.306975   -3.274575   -4.304364   -2.987432   -3.476295   \n",
              "25%     -0.669138   -0.613021   -0.630500   -0.773174   -0.732030   -0.588712   \n",
              "50%      0.189921    0.233577    0.142871   -0.079393   -0.176014    0.086642   \n",
              "75%      0.665769    0.655741    0.664043    0.433285    0.650244    0.581801   \n",
              "max      2.316328    3.187812    3.390511    4.039261    2.555754    3.267384   \n",
              "\n",
              "       gene_20640  gene_20641  gene_20642  \n",
              "count  234.000000  226.000000  234.000000  \n",
              "mean     0.054025    0.073322    0.026136  \n",
              "std      0.992180    1.013036    1.040424  \n",
              "min     -3.041749   -3.224242   -2.838428  \n",
              "25%     -0.557550   -0.522172   -0.586267  \n",
              "50%      0.084043    0.199132    0.046678  \n",
              "75%      0.676709    0.701180    0.642994  \n",
              "max      3.039536    2.630217    4.756270  \n",
              "\n",
              "[8 rows x 14572 columns]"
            ],
            "text/html": [
              "\n",
              "  <div id=\"df-e83f5202-2e64-400d-8ce4-d37a5d3754ee\" class=\"colab-df-container\">\n",
              "    <div>\n",
              "<style scoped>\n",
              "    .dataframe tbody tr th:only-of-type {\n",
              "        vertical-align: middle;\n",
              "    }\n",
              "\n",
              "    .dataframe tbody tr th {\n",
              "        vertical-align: top;\n",
              "    }\n",
              "\n",
              "    .dataframe thead th {\n",
              "        text-align: right;\n",
              "    }\n",
              "</style>\n",
              "<table border=\"1\" class=\"dataframe\">\n",
              "  <thead>\n",
              "    <tr style=\"text-align: right;\">\n",
              "      <th></th>\n",
              "      <th>gene_1</th>\n",
              "      <th>gene_3</th>\n",
              "      <th>gene_5</th>\n",
              "      <th>gene_7</th>\n",
              "      <th>gene_8</th>\n",
              "      <th>gene_9</th>\n",
              "      <th>gene_10</th>\n",
              "      <th>gene_11</th>\n",
              "      <th>gene_13</th>\n",
              "      <th>gene_14</th>\n",
              "      <th>...</th>\n",
              "      <th>gene_20633</th>\n",
              "      <th>gene_20634</th>\n",
              "      <th>gene_20635</th>\n",
              "      <th>gene_20636</th>\n",
              "      <th>gene_20637</th>\n",
              "      <th>gene_20638</th>\n",
              "      <th>gene_20639</th>\n",
              "      <th>gene_20640</th>\n",
              "      <th>gene_20641</th>\n",
              "      <th>gene_20642</th>\n",
              "    </tr>\n",
              "  </thead>\n",
              "  <tbody>\n",
              "    <tr>\n",
              "      <th>count</th>\n",
              "      <td>233.000000</td>\n",
              "      <td>232.000000</td>\n",
              "      <td>229.000000</td>\n",
              "      <td>223.000000</td>\n",
              "      <td>229.000000</td>\n",
              "      <td>230.000000</td>\n",
              "      <td>232.000000</td>\n",
              "      <td>231.000000</td>\n",
              "      <td>228.000000</td>\n",
              "      <td>229.000000</td>\n",
              "      <td>...</td>\n",
              "      <td>223.000000</td>\n",
              "      <td>242.000000</td>\n",
              "      <td>230.000000</td>\n",
              "      <td>230.000000</td>\n",
              "      <td>229.000000</td>\n",
              "      <td>227.000000</td>\n",
              "      <td>229.000000</td>\n",
              "      <td>234.000000</td>\n",
              "      <td>226.000000</td>\n",
              "      <td>234.000000</td>\n",
              "    </tr>\n",
              "    <tr>\n",
              "      <th>mean</th>\n",
              "      <td>-0.029871</td>\n",
              "      <td>-0.050582</td>\n",
              "      <td>0.019415</td>\n",
              "      <td>0.068621</td>\n",
              "      <td>0.026485</td>\n",
              "      <td>-0.022167</td>\n",
              "      <td>-0.080981</td>\n",
              "      <td>-0.012606</td>\n",
              "      <td>-0.083978</td>\n",
              "      <td>-0.024108</td>\n",
              "      <td>...</td>\n",
              "      <td>0.068190</td>\n",
              "      <td>-0.022096</td>\n",
              "      <td>0.049693</td>\n",
              "      <td>0.030266</td>\n",
              "      <td>-0.114979</td>\n",
              "      <td>-0.052111</td>\n",
              "      <td>0.056072</td>\n",
              "      <td>0.054025</td>\n",
              "      <td>0.073322</td>\n",
              "      <td>0.026136</td>\n",
              "    </tr>\n",
              "    <tr>\n",
              "      <th>std</th>\n",
              "      <td>0.994686</td>\n",
              "      <td>0.908877</td>\n",
              "      <td>1.075597</td>\n",
              "      <td>1.054320</td>\n",
              "      <td>1.009642</td>\n",
              "      <td>0.823841</td>\n",
              "      <td>0.807459</td>\n",
              "      <td>0.964595</td>\n",
              "      <td>1.003845</td>\n",
              "      <td>1.029493</td>\n",
              "      <td>...</td>\n",
              "      <td>0.961455</td>\n",
              "      <td>1.043952</td>\n",
              "      <td>1.005027</td>\n",
              "      <td>1.061329</td>\n",
              "      <td>1.092028</td>\n",
              "      <td>1.086121</td>\n",
              "      <td>1.002925</td>\n",
              "      <td>0.992180</td>\n",
              "      <td>1.013036</td>\n",
              "      <td>1.040424</td>\n",
              "    </tr>\n",
              "    <tr>\n",
              "      <th>min</th>\n",
              "      <td>-3.155312</td>\n",
              "      <td>-2.419660</td>\n",
              "      <td>-6.138127</td>\n",
              "      <td>-2.564795</td>\n",
              "      <td>-5.599804</td>\n",
              "      <td>-3.409599</td>\n",
              "      <td>-2.229974</td>\n",
              "      <td>-2.168291</td>\n",
              "      <td>-3.983165</td>\n",
              "      <td>-3.838602</td>\n",
              "      <td>...</td>\n",
              "      <td>-2.552645</td>\n",
              "      <td>-3.700996</td>\n",
              "      <td>-3.306975</td>\n",
              "      <td>-3.274575</td>\n",
              "      <td>-4.304364</td>\n",
              "      <td>-2.987432</td>\n",
              "      <td>-3.476295</td>\n",
              "      <td>-3.041749</td>\n",
              "      <td>-3.224242</td>\n",
              "      <td>-2.838428</td>\n",
              "    </tr>\n",
              "    <tr>\n",
              "      <th>25%</th>\n",
              "      <td>-0.718557</td>\n",
              "      <td>-0.566600</td>\n",
              "      <td>-0.463286</td>\n",
              "      <td>-0.610373</td>\n",
              "      <td>-0.411992</td>\n",
              "      <td>-0.419122</td>\n",
              "      <td>-0.463044</td>\n",
              "      <td>-0.593196</td>\n",
              "      <td>-0.482497</td>\n",
              "      <td>-0.623405</td>\n",
              "      <td>...</td>\n",
              "      <td>-0.441875</td>\n",
              "      <td>-0.669138</td>\n",
              "      <td>-0.613021</td>\n",
              "      <td>-0.630500</td>\n",
              "      <td>-0.773174</td>\n",
              "      <td>-0.732030</td>\n",
              "      <td>-0.588712</td>\n",
              "      <td>-0.557550</td>\n",
              "      <td>-0.522172</td>\n",
              "      <td>-0.586267</td>\n",
              "    </tr>\n",
              "    <tr>\n",
              "      <th>50%</th>\n",
              "      <td>-0.195574</td>\n",
              "      <td>-0.096317</td>\n",
              "      <td>0.031430</td>\n",
              "      <td>-0.219415</td>\n",
              "      <td>-0.017611</td>\n",
              "      <td>0.036046</td>\n",
              "      <td>-0.203048</td>\n",
              "      <td>-0.210088</td>\n",
              "      <td>-0.198510</td>\n",
              "      <td>-0.152018</td>\n",
              "      <td>...</td>\n",
              "      <td>0.081271</td>\n",
              "      <td>0.189921</td>\n",
              "      <td>0.233577</td>\n",
              "      <td>0.142871</td>\n",
              "      <td>-0.079393</td>\n",
              "      <td>-0.176014</td>\n",
              "      <td>0.086642</td>\n",
              "      <td>0.084043</td>\n",
              "      <td>0.199132</td>\n",
              "      <td>0.046678</td>\n",
              "    </tr>\n",
              "    <tr>\n",
              "      <th>75%</th>\n",
              "      <td>0.620953</td>\n",
              "      <td>0.426667</td>\n",
              "      <td>0.444142</td>\n",
              "      <td>0.480579</td>\n",
              "      <td>0.504129</td>\n",
              "      <td>0.385394</td>\n",
              "      <td>0.192898</td>\n",
              "      <td>0.291032</td>\n",
              "      <td>0.169774</td>\n",
              "      <td>0.488385</td>\n",
              "      <td>...</td>\n",
              "      <td>0.634007</td>\n",
              "      <td>0.665769</td>\n",
              "      <td>0.655741</td>\n",
              "      <td>0.664043</td>\n",
              "      <td>0.433285</td>\n",
              "      <td>0.650244</td>\n",
              "      <td>0.581801</td>\n",
              "      <td>0.676709</td>\n",
              "      <td>0.701180</td>\n",
              "      <td>0.642994</td>\n",
              "    </tr>\n",
              "    <tr>\n",
              "      <th>max</th>\n",
              "      <td>3.645606</td>\n",
              "      <td>3.274889</td>\n",
              "      <td>4.849526</td>\n",
              "      <td>4.325736</td>\n",
              "      <td>4.776318</td>\n",
              "      <td>2.618120</td>\n",
              "      <td>4.028705</td>\n",
              "      <td>4.661099</td>\n",
              "      <td>8.279023</td>\n",
              "      <td>4.019024</td>\n",
              "      <td>...</td>\n",
              "      <td>2.557030</td>\n",
              "      <td>2.316328</td>\n",
              "      <td>3.187812</td>\n",
              "      <td>3.390511</td>\n",
              "      <td>4.039261</td>\n",
              "      <td>2.555754</td>\n",
              "      <td>3.267384</td>\n",
              "      <td>3.039536</td>\n",
              "      <td>2.630217</td>\n",
              "      <td>4.756270</td>\n",
              "    </tr>\n",
              "  </tbody>\n",
              "</table>\n",
              "<p>8 rows × 14572 columns</p>\n",
              "</div>\n",
              "    <div class=\"colab-df-buttons\">\n",
              "\n",
              "  <div class=\"colab-df-container\">\n",
              "    <button class=\"colab-df-convert\" onclick=\"convertToInteractive('df-e83f5202-2e64-400d-8ce4-d37a5d3754ee')\"\n",
              "            title=\"Convert this dataframe to an interactive table.\"\n",
              "            style=\"display:none;\">\n",
              "\n",
              "  <svg xmlns=\"http://www.w3.org/2000/svg\" height=\"24px\" viewBox=\"0 -960 960 960\">\n",
              "    <path d=\"M120-120v-720h720v720H120Zm60-500h600v-160H180v160Zm220 220h160v-160H400v160Zm0 220h160v-160H400v160ZM180-400h160v-160H180v160Zm440 0h160v-160H620v160ZM180-180h160v-160H180v160Zm440 0h160v-160H620v160Z\"/>\n",
              "  </svg>\n",
              "    </button>\n",
              "\n",
              "  <style>\n",
              "    .colab-df-container {\n",
              "      display:flex;\n",
              "      gap: 12px;\n",
              "    }\n",
              "\n",
              "    .colab-df-convert {\n",
              "      background-color: #E8F0FE;\n",
              "      border: none;\n",
              "      border-radius: 50%;\n",
              "      cursor: pointer;\n",
              "      display: none;\n",
              "      fill: #1967D2;\n",
              "      height: 32px;\n",
              "      padding: 0 0 0 0;\n",
              "      width: 32px;\n",
              "    }\n",
              "\n",
              "    .colab-df-convert:hover {\n",
              "      background-color: #E2EBFA;\n",
              "      box-shadow: 0px 1px 2px rgba(60, 64, 67, 0.3), 0px 1px 3px 1px rgba(60, 64, 67, 0.15);\n",
              "      fill: #174EA6;\n",
              "    }\n",
              "\n",
              "    .colab-df-buttons div {\n",
              "      margin-bottom: 4px;\n",
              "    }\n",
              "\n",
              "    [theme=dark] .colab-df-convert {\n",
              "      background-color: #3B4455;\n",
              "      fill: #D2E3FC;\n",
              "    }\n",
              "\n",
              "    [theme=dark] .colab-df-convert:hover {\n",
              "      background-color: #434B5C;\n",
              "      box-shadow: 0px 1px 3px 1px rgba(0, 0, 0, 0.15);\n",
              "      filter: drop-shadow(0px 1px 2px rgba(0, 0, 0, 0.3));\n",
              "      fill: #FFFFFF;\n",
              "    }\n",
              "  </style>\n",
              "\n",
              "    <script>\n",
              "      const buttonEl =\n",
              "        document.querySelector('#df-e83f5202-2e64-400d-8ce4-d37a5d3754ee button.colab-df-convert');\n",
              "      buttonEl.style.display =\n",
              "        google.colab.kernel.accessAllowed ? 'block' : 'none';\n",
              "\n",
              "      async function convertToInteractive(key) {\n",
              "        const element = document.querySelector('#df-e83f5202-2e64-400d-8ce4-d37a5d3754ee');\n",
              "        const dataTable =\n",
              "          await google.colab.kernel.invokeFunction('convertToInteractive',\n",
              "                                                    [key], {});\n",
              "        if (!dataTable) return;\n",
              "\n",
              "        const docLinkHtml = 'Like what you see? Visit the ' +\n",
              "          '<a target=\"_blank\" href=https://colab.research.google.com/notebooks/data_table.ipynb>data table notebook</a>'\n",
              "          + ' to learn more about interactive tables.';\n",
              "        element.innerHTML = '';\n",
              "        dataTable['output_type'] = 'display_data';\n",
              "        await google.colab.output.renderOutput(dataTable, element);\n",
              "        const docLink = document.createElement('div');\n",
              "        docLink.innerHTML = docLinkHtml;\n",
              "        element.appendChild(docLink);\n",
              "      }\n",
              "    </script>\n",
              "  </div>\n",
              "\n",
              "\n",
              "    <div id=\"df-95476c7d-7bd5-4780-b9f7-0546b36faed6\">\n",
              "      <button class=\"colab-df-quickchart\" onclick=\"quickchart('df-95476c7d-7bd5-4780-b9f7-0546b36faed6')\"\n",
              "                title=\"Suggest charts\"\n",
              "                style=\"display:none;\">\n",
              "\n",
              "<svg xmlns=\"http://www.w3.org/2000/svg\" height=\"24px\"viewBox=\"0 0 24 24\"\n",
              "     width=\"24px\">\n",
              "    <g>\n",
              "        <path d=\"M19 3H5c-1.1 0-2 .9-2 2v14c0 1.1.9 2 2 2h14c1.1 0 2-.9 2-2V5c0-1.1-.9-2-2-2zM9 17H7v-7h2v7zm4 0h-2V7h2v10zm4 0h-2v-4h2v4z\"/>\n",
              "    </g>\n",
              "</svg>\n",
              "      </button>\n",
              "\n",
              "<style>\n",
              "  .colab-df-quickchart {\n",
              "      --bg-color: #E8F0FE;\n",
              "      --fill-color: #1967D2;\n",
              "      --hover-bg-color: #E2EBFA;\n",
              "      --hover-fill-color: #174EA6;\n",
              "      --disabled-fill-color: #AAA;\n",
              "      --disabled-bg-color: #DDD;\n",
              "  }\n",
              "\n",
              "  [theme=dark] .colab-df-quickchart {\n",
              "      --bg-color: #3B4455;\n",
              "      --fill-color: #D2E3FC;\n",
              "      --hover-bg-color: #434B5C;\n",
              "      --hover-fill-color: #FFFFFF;\n",
              "      --disabled-bg-color: #3B4455;\n",
              "      --disabled-fill-color: #666;\n",
              "  }\n",
              "\n",
              "  .colab-df-quickchart {\n",
              "    background-color: var(--bg-color);\n",
              "    border: none;\n",
              "    border-radius: 50%;\n",
              "    cursor: pointer;\n",
              "    display: none;\n",
              "    fill: var(--fill-color);\n",
              "    height: 32px;\n",
              "    padding: 0;\n",
              "    width: 32px;\n",
              "  }\n",
              "\n",
              "  .colab-df-quickchart:hover {\n",
              "    background-color: var(--hover-bg-color);\n",
              "    box-shadow: 0 1px 2px rgba(60, 64, 67, 0.3), 0 1px 3px 1px rgba(60, 64, 67, 0.15);\n",
              "    fill: var(--button-hover-fill-color);\n",
              "  }\n",
              "\n",
              "  .colab-df-quickchart-complete:disabled,\n",
              "  .colab-df-quickchart-complete:disabled:hover {\n",
              "    background-color: var(--disabled-bg-color);\n",
              "    fill: var(--disabled-fill-color);\n",
              "    box-shadow: none;\n",
              "  }\n",
              "\n",
              "  .colab-df-spinner {\n",
              "    border: 2px solid var(--fill-color);\n",
              "    border-color: transparent;\n",
              "    border-bottom-color: var(--fill-color);\n",
              "    animation:\n",
              "      spin 1s steps(1) infinite;\n",
              "  }\n",
              "\n",
              "  @keyframes spin {\n",
              "    0% {\n",
              "      border-color: transparent;\n",
              "      border-bottom-color: var(--fill-color);\n",
              "      border-left-color: var(--fill-color);\n",
              "    }\n",
              "    20% {\n",
              "      border-color: transparent;\n",
              "      border-left-color: var(--fill-color);\n",
              "      border-top-color: var(--fill-color);\n",
              "    }\n",
              "    30% {\n",
              "      border-color: transparent;\n",
              "      border-left-color: var(--fill-color);\n",
              "      border-top-color: var(--fill-color);\n",
              "      border-right-color: var(--fill-color);\n",
              "    }\n",
              "    40% {\n",
              "      border-color: transparent;\n",
              "      border-right-color: var(--fill-color);\n",
              "      border-top-color: var(--fill-color);\n",
              "    }\n",
              "    60% {\n",
              "      border-color: transparent;\n",
              "      border-right-color: var(--fill-color);\n",
              "    }\n",
              "    80% {\n",
              "      border-color: transparent;\n",
              "      border-right-color: var(--fill-color);\n",
              "      border-bottom-color: var(--fill-color);\n",
              "    }\n",
              "    90% {\n",
              "      border-color: transparent;\n",
              "      border-bottom-color: var(--fill-color);\n",
              "    }\n",
              "  }\n",
              "</style>\n",
              "\n",
              "      <script>\n",
              "        async function quickchart(key) {\n",
              "          const quickchartButtonEl =\n",
              "            document.querySelector('#' + key + ' button');\n",
              "          quickchartButtonEl.disabled = true;  // To prevent multiple clicks.\n",
              "          quickchartButtonEl.classList.add('colab-df-spinner');\n",
              "          try {\n",
              "            const charts = await google.colab.kernel.invokeFunction(\n",
              "                'suggestCharts', [key], {});\n",
              "          } catch (error) {\n",
              "            console.error('Error during call to suggestCharts:', error);\n",
              "          }\n",
              "          quickchartButtonEl.classList.remove('colab-df-spinner');\n",
              "          quickchartButtonEl.classList.add('colab-df-quickchart-complete');\n",
              "        }\n",
              "        (() => {\n",
              "          let quickchartButtonEl =\n",
              "            document.querySelector('#df-95476c7d-7bd5-4780-b9f7-0546b36faed6 button');\n",
              "          quickchartButtonEl.style.display =\n",
              "            google.colab.kernel.accessAllowed ? 'block' : 'none';\n",
              "        })();\n",
              "      </script>\n",
              "    </div>\n",
              "\n",
              "    </div>\n",
              "  </div>\n"
            ],
            "application/vnd.google.colaboratory.intrinsic+json": {
              "type": "dataframe"
            }
          },
          "metadata": {},
          "execution_count": 24
        }
      ]
    },
    {
      "cell_type": "code",
      "source": [
        "print(X_labeled.isnull().sum().sum())\n",
        "print(X_unlabeled.isnull().sum().sum())"
      ],
      "metadata": {
        "colab": {
          "base_uri": "https://localhost:8080/"
        },
        "id": "OqxrXVShrTPg",
        "outputId": "eedafb05-e2b8-4ffe-e387-9a8a4c333d3f"
      },
      "execution_count": 25,
      "outputs": [
        {
          "output_type": "stream",
          "name": "stdout",
          "text": [
            "180587\n",
            "301459\n"
          ]
        }
      ]
    },
    {
      "cell_type": "code",
      "source": [
        "# fill in the missing values with mean\n",
        "X_labeled = X_labeled.fillna(X_labeled.mean())\n",
        "X_unlabeled = X_unlabeled.fillna(X_unlabeled.mean())\n",
        "# Fill missing values for test data\n",
        "X_test = X_test.fillna(X_test.mean())\n",
        "\n",
        "# after fill in the missing values checking for any NaN\n",
        "print(X_labeled.isnull().sum().sum())\n",
        "print(X_unlabeled.isnull().sum().sum())\n",
        "print(X_test.isnull().sum().sum())"
      ],
      "metadata": {
        "colab": {
          "base_uri": "https://localhost:8080/"
        },
        "id": "woOPmKDNrdwx",
        "outputId": "56693b5e-1b75-4939-a13f-274c250e9d62"
      },
      "execution_count": 26,
      "outputs": [
        {
          "output_type": "stream",
          "name": "stdout",
          "text": [
            "0\n",
            "0\n",
            "0\n"
          ]
        }
      ]
    },
    {
      "cell_type": "code",
      "source": [
        "y_labeled = y_labeled.astype(int)\n",
        "print(y_labeled.value_counts())\n",
        "y_labeled.value_counts().plot(kind = 'bar')"
      ],
      "metadata": {
        "colab": {
          "base_uri": "https://localhost:8080/",
          "height": 583
        },
        "id": "upEi0l_XrnH-",
        "outputId": "d4b928b9-87ea-4d97-e0ec-310e998f6a73"
      },
      "execution_count": 27,
      "outputs": [
        {
          "output_type": "stream",
          "name": "stdout",
          "text": [
            "Class\n",
            "2    56\n",
            "4    27\n",
            "1    26\n",
            "0    26\n",
            "3    15\n",
            "Name: count, dtype: int64\n"
          ]
        },
        {
          "output_type": "execute_result",
          "data": {
            "text/plain": [
              "<Axes: xlabel='Class'>"
            ]
          },
          "metadata": {},
          "execution_count": 27
        },
        {
          "output_type": "display_data",
          "data": {
            "text/plain": [
              "<Figure size 640x480 with 1 Axes>"
            ],
            "image/png": "[encoded data removed]"
          },
          "metadata": {}
        }
      ]
    },
    {
      "cell_type": "code",
      "source": [
        "from sklearn.decomposition import PCA\n",
        "import matplotlib.pyplot as plt\n",
        "\n",
        "pca = PCA(n_components=2)\n",
        "X_pca = pca.fit_transform(X_labeled)\n",
        "\n",
        "plt.figure(figsize=(6, 5))\n",
        "plt.scatter(X_pca[:, 0], X_pca[:, 1], c=y_labeled, cmap='Set1', s=10)\n",
        "plt.title(\"PCA of Labeled Data\")\n",
        "plt.show()\n"
      ],
      "metadata": {
        "colab": {
          "base_uri": "https://localhost:8080/",
          "height": 468
        },
        "id": "NFsc_0WSrvGE",
        "outputId": "d76dbbf1-8e98-4cba-8718-4e726e631960"
      },
      "execution_count": 28,
      "outputs": [
        {
          "output_type": "display_data",
          "data": {
            "text/plain": [
              "<Figure size 600x500 with 1 Axes>"
            ],
            "image/png": "[encoded data removed]"
          },
          "metadata": {}
        }
      ]
    },
    {
      "cell_type": "code",
      "source": [
        "from imblearn.combine import SMOTEENN, SMOTETomek\n",
        "from imblearn.over_sampling import SMOTE\n",
        "from imblearn.under_sampling import EditedNearestNeighbours\n",
        "from imblearn.under_sampling import TomekLinks"
      ],
      "metadata": {
        "id": "FTTYb_CLr10g"
      },
      "execution_count": 29,
      "outputs": []
    },
    {
      "cell_type": "code",
      "source": [
        "# Create the SMOTE and TomekLinks objects\n",
        "smote = SMOTE(k_neighbors=5, random_state=42)\n",
        "tomek = TomekLinks(sampling_strategy='majority', n_jobs=-1)\n",
        "\n",
        "smote_tomek = SMOTETomek(\n",
        "    sampling_strategy = 'not majority',\n",
        "    smote = smote,\n",
        "    tomek = tomek,\n",
        "    n_jobs = -1,\n",
        "    random_state=42\n",
        ")\n",
        "X_balanced, y_balanced = smote_tomek.fit_resample(X_labeled, y_labeled)"
      ],
      "metadata": {
        "id": "a14yOko0r7Gt"
      },
      "execution_count": 30,
      "outputs": []
    },
    {
      "cell_type": "code",
      "source": [
        "X_pca = pca.fit_transform(X_balanced)\n",
        "\n",
        "plt.figure(figsize=(6, 5))\n",
        "plt.scatter(X_pca[:, 0], X_pca[:, 1], c=y_balanced, cmap='Set1', s=10)\n",
        "plt.title(\"PCA of Labeled Data after Balanced using SMOTETomek\")\n",
        "plt.show()"
      ],
      "metadata": {
        "colab": {
          "base_uri": "https://localhost:8080/",
          "height": 468
        },
        "id": "cE3kCdEqr_Wd",
        "outputId": "a4fdd6be-bc09-4a0e-8078-43153a18ad5c"
      },
      "execution_count": 31,
      "outputs": [
        {
          "output_type": "display_data",
          "data": {
            "text/plain": [
              "<Figure size 600x500 with 1 Axes>"
            ],
            "image/png": "[encoded data removed]"
          },
          "metadata": {}
        }
      ]
    },
    {
      "cell_type": "code",
      "source": [
        "X_balanced.shape"
      ],
      "metadata": {
        "colab": {
          "base_uri": "https://localhost:8080/"
        },
        "id": "kMj-hq31suIF",
        "outputId": "5384ad74-3772-45f1-e3e0-91cc3963298c"
      },
      "execution_count": 32,
      "outputs": [
        {
          "output_type": "execute_result",
          "data": {
            "text/plain": [
              "(280, 14572)"
            ]
          },
          "metadata": {},
          "execution_count": 32
        }
      ]
    },
    {
      "cell_type": "code",
      "source": [
        "X_labeled.shape"
      ],
      "metadata": {
        "colab": {
          "base_uri": "https://localhost:8080/"
        },
        "id": "8aQUk31JtAZm",
        "outputId": "efadf42e-f743-4bd8-a680-e45f31c3ba6f"
      },
      "execution_count": 33,
      "outputs": [
        {
          "output_type": "execute_result",
          "data": {
            "text/plain": [
              "(150, 14572)"
            ]
          },
          "metadata": {},
          "execution_count": 33
        }
      ]
    },
    {
      "cell_type": "code",
      "source": [
        "y_balanced.value_counts().plot(kind = 'bar')"
      ],
      "metadata": {
        "colab": {
          "base_uri": "https://localhost:8080/",
          "height": 461
        },
        "id": "HhoDJ34etEuC",
        "outputId": "7fe8daf4-4f26-437d-e3bd-4f74bf680227"
      },
      "execution_count": 64,
      "outputs": [
        {
          "output_type": "execute_result",
          "data": {
            "text/plain": [
              "<Axes: xlabel='Class'>"
            ]
          },
          "metadata": {},
          "execution_count": 64
        },
        {
          "output_type": "display_data",
          "data": {
            "text/plain": [
              "<Figure size 640x480 with 1 Axes>"
            ],
            "image/png": "[encoded data removed]"
          },
          "metadata": {}
        }
      ]
    },
    {
      "cell_type": "code",
      "source": [
        "pd.Series(y_balanced).value_counts().sort_index()\n"
      ],
      "metadata": {
        "colab": {
          "base_uri": "https://localhost:8080/",
          "height": 272
        },
        "id": "NKKFFOlLtNCi",
        "outputId": "581a9ec2-f305-4879-8083-1ffecef75e80"
      },
      "execution_count": 65,
      "outputs": [
        {
          "output_type": "execute_result",
          "data": {
            "text/plain": [
              "Class\n",
              "0    56\n",
              "1    56\n",
              "2    56\n",
              "3    56\n",
              "4    56\n",
              "Name: count, dtype: int64"
            ],
            "text/html": [
              "<div>\n",
              "<style scoped>\n",
              "    .dataframe tbody tr th:only-of-type {\n",
              "        vertical-align: middle;\n",
              "    }\n",
              "\n",
              "    .dataframe tbody tr th {\n",
              "        vertical-align: top;\n",
              "    }\n",
              "\n",
              "    .dataframe thead th {\n",
              "        text-align: right;\n",
              "    }\n",
              "</style>\n",
              "<table border=\"1\" class=\"dataframe\">\n",
              "  <thead>\n",
              "    <tr style=\"text-align: right;\">\n",
              "      <th></th>\n",
              "      <th>count</th>\n",
              "    </tr>\n",
              "    <tr>\n",
              "      <th>Class</th>\n",
              "      <th></th>\n",
              "    </tr>\n",
              "  </thead>\n",
              "  <tbody>\n",
              "    <tr>\n",
              "      <th>0</th>\n",
              "      <td>56</td>\n",
              "    </tr>\n",
              "    <tr>\n",
              "      <th>1</th>\n",
              "      <td>56</td>\n",
              "    </tr>\n",
              "    <tr>\n",
              "      <th>2</th>\n",
              "      <td>56</td>\n",
              "    </tr>\n",
              "    <tr>\n",
              "      <th>3</th>\n",
              "      <td>56</td>\n",
              "    </tr>\n",
              "    <tr>\n",
              "      <th>4</th>\n",
              "      <td>56</td>\n",
              "    </tr>\n",
              "  </tbody>\n",
              "</table>\n",
              "</div><br><label><b>dtype:</b> int64</label>"
            ]
          },
          "metadata": {},
          "execution_count": 65
        }
      ]
    },
    {
      "cell_type": "code",
      "source": [
        "from sklearn.feature_selection import RFE\n",
        "from sklearn.ensemble import RandomForestClassifier\n",
        "from sklearn.model_selection import cross_val_score"
      ],
      "metadata": {
        "id": "Suzw9Rmatpu5"
      },
      "execution_count": 69,
      "outputs": []
    },
    {
      "cell_type": "code",
      "source": [
        "# Feature Selection using RFE with Random Forest Classifier\n",
        "scores = []\n",
        "feature_range = [500, 1000, 2000, 3000, 5000, 5500]  # Trying different feature counts\n",
        "\n",
        "for k in feature_range:\n",
        "    rfe = RFE(estimator=RandomForestClassifier(n_estimators=100, random_state=42),\n",
        "              n_features_to_select=k,\n",
        "              step=10\n",
        "              )\n",
        "    X_rfe = rfe.fit_transform(X_balanced, y_balanced)\n",
        "\n",
        "    # Evaluate with RandomForest\n",
        "    score = cross_val_score(RandomForestClassifier(n_estimators=100, random_state=42),\n",
        "                            X_rfe,\n",
        "                            y_balanced,\n",
        "                            cv=5\n",
        "                            ).mean()\n",
        "\n",
        "    scores.append(score)\n",
        "    print(f\"Features: {k}, CV Accuracy: {score:.4f}\")"
      ],
      "metadata": {
        "colab": {
          "base_uri": "https://localhost:8080/",
          "height": 408
        },
        "id": "Gr2Am6gP1STH",
        "outputId": "df2b3b9f-c7f3-403a-80b4-c0900e2f4d66"
      },
      "execution_count": 72,
      "outputs": [
        {
          "metadata": {
            "tags": null
          },
          "name": "stdout",
          "output_type": "stream",
          "text": [
            "Features: 500, CV Accuracy: 0.9893\n",
            "Features: 1000, CV Accuracy: 0.9929\n",
            "Features: 2000, CV Accuracy: 0.9929\n"
          ]
        },
        {
          "output_type": "error",
          "ename": "KeyboardInterrupt",
          "evalue": "",
          "traceback": [
            "\u001b[0;31m---------------------------------------------------------------------------\u001b[0m",
            "\u001b[0;31mKeyboardInterrupt\u001b[0m                         Traceback (most recent call last)",
            "\u001b[0;32m/tmp/ipython-input-72-90582768.py\u001b[0m in \u001b[0;36m<cell line: 0>\u001b[0;34m()\u001b[0m\n\u001b[1;32m      7\u001b[0m               \u001b[0mstep\u001b[0m\u001b[0;34m=\u001b[0m\u001b[0;36m10\u001b[0m\u001b[0;34m\u001b[0m\u001b[0;34m\u001b[0m\u001b[0m\n\u001b[1;32m      8\u001b[0m               )\n\u001b[0;32m----> 9\u001b[0;31m     \u001b[0mX_rfe\u001b[0m \u001b[0;34m=\u001b[0m \u001b[0mrfe\u001b[0m\u001b[0;34m.\u001b[0m\u001b[0mfit_transform\u001b[0m\u001b[0;34m(\u001b[0m\u001b[0mX_balanced\u001b[0m\u001b[0;34m,\u001b[0m \u001b[0my_balanced\u001b[0m\u001b[0;34m)\u001b[0m\u001b[0;34m\u001b[0m\u001b[0;34m\u001b[0m\u001b[0m\n\u001b[0m\u001b[1;32m     10\u001b[0m \u001b[0;34m\u001b[0m\u001b[0m\n\u001b[1;32m     11\u001b[0m     \u001b[0;31m# Evaluate with RandomForest\u001b[0m\u001b[0;34m\u001b[0m\u001b[0;34m\u001b[0m\u001b[0m\n",
            "\u001b[0;32m/usr/local/lib/python3.11/dist-packages/sklearn/utils/_set_output.py\u001b[0m in \u001b[0;36mwrapped\u001b[0;34m(self, X, *args, **kwargs)\u001b[0m\n\u001b[1;32m    317\u001b[0m     \u001b[0;34m@\u001b[0m\u001b[0mwraps\u001b[0m\u001b[0;34m(\u001b[0m\u001b[0mf\u001b[0m\u001b[0;34m)\u001b[0m\u001b[0;34m\u001b[0m\u001b[0;34m\u001b[0m\u001b[0m\n\u001b[1;32m    318\u001b[0m     \u001b[0;32mdef\u001b[0m \u001b[0mwrapped\u001b[0m\u001b[0;34m(\u001b[0m\u001b[0mself\u001b[0m\u001b[0;34m,\u001b[0m \u001b[0mX\u001b[0m\u001b[0;34m,\u001b[0m \u001b[0;34m*\u001b[0m\u001b[0margs\u001b[0m\u001b[0;34m,\u001b[0m \u001b[0;34m**\u001b[0m\u001b[0mkwargs\u001b[0m\u001b[0;34m)\u001b[0m\u001b[0;34m:\u001b[0m\u001b[0;34m\u001b[0m\u001b[0;34m\u001b[0m\u001b[0m\n\u001b[0;32m--> 319\u001b[0;31m         \u001b[0mdata_to_wrap\u001b[0m \u001b[0;34m=\u001b[0m \u001b[0mf\u001b[0m\u001b[0;34m(\u001b[0m\u001b[0mself\u001b[0m\u001b[0;34m,\u001b[0m \u001b[0mX\u001b[0m\u001b[0;34m,\u001b[0m \u001b[0;34m*\u001b[0m\u001b[0margs\u001b[0m\u001b[0;34m,\u001b[0m \u001b[0;34m**\u001b[0m\u001b[0mkwargs\u001b[0m\u001b[0;34m)\u001b[0m\u001b[0;34m\u001b[0m\u001b[0;34m\u001b[0m\u001b[0m\n\u001b[0m\u001b[1;32m    320\u001b[0m         \u001b[0;32mif\u001b[0m \u001b[0misinstance\u001b[0m\u001b[0;34m(\u001b[0m\u001b[0mdata_to_wrap\u001b[0m\u001b[0;34m,\u001b[0m \u001b[0mtuple\u001b[0m\u001b[0;34m)\u001b[0m\u001b[0;34m:\u001b[0m\u001b[0;34m\u001b[0m\u001b[0;34m\u001b[0m\u001b[0m\n\u001b[1;32m    321\u001b[0m             \u001b[0;31m# only wrap the first output for cross decomposition\u001b[0m\u001b[0;34m\u001b[0m\u001b[0;34m\u001b[0m\u001b[0m\n",
            "\u001b[0;32m/usr/local/lib/python3.11/dist-packages/sklearn/base.py\u001b[0m in \u001b[0;36mfit_transform\u001b[0;34m(self, X, y, **fit_params)\u001b[0m\n\u001b[1;32m    919\u001b[0m         \u001b[0;32melse\u001b[0m\u001b[0;34m:\u001b[0m\u001b[0;34m\u001b[0m\u001b[0;34m\u001b[0m\u001b[0m\n\u001b[1;32m    920\u001b[0m             \u001b[0;31m# fit method of arity 2 (supervised transformation)\u001b[0m\u001b[0;34m\u001b[0m\u001b[0;34m\u001b[0m\u001b[0m\n\u001b[0;32m--> 921\u001b[0;31m             \u001b[0;32mreturn\u001b[0m \u001b[0mself\u001b[0m\u001b[0;34m.\u001b[0m\u001b[0mfit\u001b[0m\u001b[0;34m(\u001b[0m\u001b[0mX\u001b[0m\u001b[0;34m,\u001b[0m \u001b[0my\u001b[0m\u001b[0;34m,\u001b[0m \u001b[0;34m**\u001b[0m\u001b[0mfit_params\u001b[0m\u001b[0;34m)\u001b[0m\u001b[0;34m.\u001b[0m\u001b[0mtransform\u001b[0m\u001b[0;34m(\u001b[0m\u001b[0mX\u001b[0m\u001b[0;34m)\u001b[0m\u001b[0;34m\u001b[0m\u001b[0;34m\u001b[0m\u001b[0m\n\u001b[0m\u001b[1;32m    922\u001b[0m \u001b[0;34m\u001b[0m\u001b[0m\n\u001b[1;32m    923\u001b[0m \u001b[0;34m\u001b[0m\u001b[0m\n",
            "\u001b[0;32m/usr/local/lib/python3.11/dist-packages/sklearn/base.py\u001b[0m in \u001b[0;36mwrapper\u001b[0;34m(estimator, *args, **kwargs)\u001b[0m\n\u001b[1;32m   1387\u001b[0m                 )\n\u001b[1;32m   1388\u001b[0m             ):\n\u001b[0;32m-> 1389\u001b[0;31m                 \u001b[0;32mreturn\u001b[0m \u001b[0mfit_method\u001b[0m\u001b[0;34m(\u001b[0m\u001b[0mestimator\u001b[0m\u001b[0;34m,\u001b[0m \u001b[0;34m*\u001b[0m\u001b[0margs\u001b[0m\u001b[0;34m,\u001b[0m \u001b[0;34m**\u001b[0m\u001b[0mkwargs\u001b[0m\u001b[0;34m)\u001b[0m\u001b[0;34m\u001b[0m\u001b[0;34m\u001b[0m\u001b[0m\n\u001b[0m\u001b[1;32m   1390\u001b[0m \u001b[0;34m\u001b[0m\u001b[0m\n\u001b[1;32m   1391\u001b[0m         \u001b[0;32mreturn\u001b[0m \u001b[0mwrapper\u001b[0m\u001b[0;34m\u001b[0m\u001b[0;34m\u001b[0m\u001b[0m\n",
            "\u001b[0;32m/usr/local/lib/python3.11/dist-packages/sklearn/feature_selection/_rfe.py\u001b[0m in \u001b[0;36mfit\u001b[0;34m(self, X, y, **fit_params)\u001b[0m\n\u001b[1;32m    274\u001b[0m             \u001b[0mrouted_params\u001b[0m \u001b[0;34m=\u001b[0m \u001b[0mBunch\u001b[0m\u001b[0;34m(\u001b[0m\u001b[0mestimator\u001b[0m\u001b[0;34m=\u001b[0m\u001b[0mBunch\u001b[0m\u001b[0;34m(\u001b[0m\u001b[0mfit\u001b[0m\u001b[0;34m=\u001b[0m\u001b[0mfit_params\u001b[0m\u001b[0;34m)\u001b[0m\u001b[0;34m)\u001b[0m\u001b[0;34m\u001b[0m\u001b[0;34m\u001b[0m\u001b[0m\n\u001b[1;32m    275\u001b[0m \u001b[0;34m\u001b[0m\u001b[0m\n\u001b[0;32m--> 276\u001b[0;31m         \u001b[0;32mreturn\u001b[0m \u001b[0mself\u001b[0m\u001b[0;34m.\u001b[0m\u001b[0m_fit\u001b[0m\u001b[0;34m(\u001b[0m\u001b[0mX\u001b[0m\u001b[0;34m,\u001b[0m \u001b[0my\u001b[0m\u001b[0;34m,\u001b[0m \u001b[0;34m**\u001b[0m\u001b[0mrouted_params\u001b[0m\u001b[0;34m.\u001b[0m\u001b[0mestimator\u001b[0m\u001b[0;34m.\u001b[0m\u001b[0mfit\u001b[0m\u001b[0;34m)\u001b[0m\u001b[0;34m\u001b[0m\u001b[0;34m\u001b[0m\u001b[0m\n\u001b[0m\u001b[1;32m    277\u001b[0m \u001b[0;34m\u001b[0m\u001b[0m\n\u001b[1;32m    278\u001b[0m     \u001b[0;32mdef\u001b[0m \u001b[0m_fit\u001b[0m\u001b[0;34m(\u001b[0m\u001b[0mself\u001b[0m\u001b[0;34m,\u001b[0m \u001b[0mX\u001b[0m\u001b[0;34m,\u001b[0m \u001b[0my\u001b[0m\u001b[0;34m,\u001b[0m \u001b[0mstep_score\u001b[0m\u001b[0;34m=\u001b[0m\u001b[0;32mNone\u001b[0m\u001b[0;34m,\u001b[0m \u001b[0;34m**\u001b[0m\u001b[0mfit_params\u001b[0m\u001b[0;34m)\u001b[0m\u001b[0;34m:\u001b[0m\u001b[0;34m\u001b[0m\u001b[0;34m\u001b[0m\u001b[0m\n",
            "\u001b[0;32m/usr/local/lib/python3.11/dist-packages/sklearn/feature_selection/_rfe.py\u001b[0m in \u001b[0;36m_fit\u001b[0;34m(self, X, y, step_score, **fit_params)\u001b[0m\n\u001b[1;32m    330\u001b[0m                 \u001b[0mprint\u001b[0m\u001b[0;34m(\u001b[0m\u001b[0;34m\"Fitting estimator with %d features.\"\u001b[0m \u001b[0;34m%\u001b[0m \u001b[0mnp\u001b[0m\u001b[0;34m.\u001b[0m\u001b[0msum\u001b[0m\u001b[0;34m(\u001b[0m\u001b[0msupport_\u001b[0m\u001b[0;34m)\u001b[0m\u001b[0;34m)\u001b[0m\u001b[0;34m\u001b[0m\u001b[0;34m\u001b[0m\u001b[0m\n\u001b[1;32m    331\u001b[0m \u001b[0;34m\u001b[0m\u001b[0m\n\u001b[0;32m--> 332\u001b[0;31m             \u001b[0mestimator\u001b[0m\u001b[0;34m.\u001b[0m\u001b[0mfit\u001b[0m\u001b[0;34m(\u001b[0m\u001b[0mX\u001b[0m\u001b[0;34m[\u001b[0m\u001b[0;34m:\u001b[0m\u001b[0;34m,\u001b[0m \u001b[0mfeatures\u001b[0m\u001b[0;34m]\u001b[0m\u001b[0;34m,\u001b[0m \u001b[0my\u001b[0m\u001b[0;34m,\u001b[0m \u001b[0;34m**\u001b[0m\u001b[0mfit_params\u001b[0m\u001b[0;34m)\u001b[0m\u001b[0;34m\u001b[0m\u001b[0;34m\u001b[0m\u001b[0m\n\u001b[0m\u001b[1;32m    333\u001b[0m \u001b[0;34m\u001b[0m\u001b[0m\n\u001b[1;32m    334\u001b[0m             \u001b[0;31m# Get importance and rank them\u001b[0m\u001b[0;34m\u001b[0m\u001b[0;34m\u001b[0m\u001b[0m\n",
            "\u001b[0;32m/usr/local/lib/python3.11/dist-packages/sklearn/base.py\u001b[0m in \u001b[0;36mwrapper\u001b[0;34m(estimator, *args, **kwargs)\u001b[0m\n\u001b[1;32m   1387\u001b[0m                 )\n\u001b[1;32m   1388\u001b[0m             ):\n\u001b[0;32m-> 1389\u001b[0;31m                 \u001b[0;32mreturn\u001b[0m \u001b[0mfit_method\u001b[0m\u001b[0;34m(\u001b[0m\u001b[0mestimator\u001b[0m\u001b[0;34m,\u001b[0m \u001b[0;34m*\u001b[0m\u001b[0margs\u001b[0m\u001b[0;34m,\u001b[0m \u001b[0;34m**\u001b[0m\u001b[0mkwargs\u001b[0m\u001b[0;34m)\u001b[0m\u001b[0;34m\u001b[0m\u001b[0;34m\u001b[0m\u001b[0m\n\u001b[0m\u001b[1;32m   1390\u001b[0m \u001b[0;34m\u001b[0m\u001b[0m\n\u001b[1;32m   1391\u001b[0m         \u001b[0;32mreturn\u001b[0m \u001b[0mwrapper\u001b[0m\u001b[0;34m\u001b[0m\u001b[0;34m\u001b[0m\u001b[0m\n",
            "\u001b[0;32m/usr/local/lib/python3.11/dist-packages/sklearn/ensemble/_forest.py\u001b[0m in \u001b[0;36mfit\u001b[0;34m(self, X, y, sample_weight)\u001b[0m\n\u001b[1;32m    474\u001b[0m                 \u001b[0mrandom_state\u001b[0m\u001b[0;34m.\u001b[0m\u001b[0mrandint\u001b[0m\u001b[0;34m(\u001b[0m\u001b[0mMAX_INT\u001b[0m\u001b[0;34m,\u001b[0m \u001b[0msize\u001b[0m\u001b[0;34m=\u001b[0m\u001b[0mlen\u001b[0m\u001b[0;34m(\u001b[0m\u001b[0mself\u001b[0m\u001b[0;34m.\u001b[0m\u001b[0mestimators_\u001b[0m\u001b[0;34m)\u001b[0m\u001b[0;34m)\u001b[0m\u001b[0;34m\u001b[0m\u001b[0;34m\u001b[0m\u001b[0m\n\u001b[1;32m    475\u001b[0m \u001b[0;34m\u001b[0m\u001b[0m\n\u001b[0;32m--> 476\u001b[0;31m             trees = [\n\u001b[0m\u001b[1;32m    477\u001b[0m                 \u001b[0mself\u001b[0m\u001b[0;34m.\u001b[0m\u001b[0m_make_estimator\u001b[0m\u001b[0;34m(\u001b[0m\u001b[0mappend\u001b[0m\u001b[0;34m=\u001b[0m\u001b[0;32mFalse\u001b[0m\u001b[0;34m,\u001b[0m \u001b[0mrandom_state\u001b[0m\u001b[0;34m=\u001b[0m\u001b[0mrandom_state\u001b[0m\u001b[0;34m)\u001b[0m\u001b[0;34m\u001b[0m\u001b[0;34m\u001b[0m\u001b[0m\n\u001b[1;32m    478\u001b[0m                 \u001b[0;32mfor\u001b[0m \u001b[0mi\u001b[0m \u001b[0;32min\u001b[0m \u001b[0mrange\u001b[0m\u001b[0;34m(\u001b[0m\u001b[0mn_more_estimators\u001b[0m\u001b[0;34m)\u001b[0m\u001b[0;34m\u001b[0m\u001b[0;34m\u001b[0m\u001b[0m\n",
            "\u001b[0;32m/usr/local/lib/python3.11/dist-packages/sklearn/ensemble/_forest.py\u001b[0m in \u001b[0;36m<listcomp>\u001b[0;34m(.0)\u001b[0m\n\u001b[1;32m    475\u001b[0m \u001b[0;34m\u001b[0m\u001b[0m\n\u001b[1;32m    476\u001b[0m             trees = [\n\u001b[0;32m--> 477\u001b[0;31m                 \u001b[0mself\u001b[0m\u001b[0;34m.\u001b[0m\u001b[0m_make_estimator\u001b[0m\u001b[0;34m(\u001b[0m\u001b[0mappend\u001b[0m\u001b[0;34m=\u001b[0m\u001b[0;32mFalse\u001b[0m\u001b[0;34m,\u001b[0m \u001b[0mrandom_state\u001b[0m\u001b[0;34m=\u001b[0m\u001b[0mrandom_state\u001b[0m\u001b[0;34m)\u001b[0m\u001b[0;34m\u001b[0m\u001b[0;34m\u001b[0m\u001b[0m\n\u001b[0m\u001b[1;32m    478\u001b[0m                 \u001b[0;32mfor\u001b[0m \u001b[0mi\u001b[0m \u001b[0;32min\u001b[0m \u001b[0mrange\u001b[0m\u001b[0;34m(\u001b[0m\u001b[0mn_more_estimators\u001b[0m\u001b[0;34m)\u001b[0m\u001b[0;34m\u001b[0m\u001b[0;34m\u001b[0m\u001b[0m\n\u001b[1;32m    479\u001b[0m             ]\n",
            "\u001b[0;32m/usr/local/lib/python3.11/dist-packages/sklearn/ensemble/_base.py\u001b[0m in \u001b[0;36m_make_estimator\u001b[0;34m(self, append, random_state)\u001b[0m\n\u001b[1;32m    140\u001b[0m         \"\"\"\n\u001b[1;32m    141\u001b[0m         \u001b[0mestimator\u001b[0m \u001b[0;34m=\u001b[0m \u001b[0mclone\u001b[0m\u001b[0;34m(\u001b[0m\u001b[0mself\u001b[0m\u001b[0;34m.\u001b[0m\u001b[0mestimator_\u001b[0m\u001b[0;34m)\u001b[0m\u001b[0;34m\u001b[0m\u001b[0;34m\u001b[0m\u001b[0m\n\u001b[0;32m--> 142\u001b[0;31m         \u001b[0mestimator\u001b[0m\u001b[0;34m.\u001b[0m\u001b[0mset_params\u001b[0m\u001b[0;34m(\u001b[0m\u001b[0;34m**\u001b[0m\u001b[0;34m{\u001b[0m\u001b[0mp\u001b[0m\u001b[0;34m:\u001b[0m \u001b[0mgetattr\u001b[0m\u001b[0;34m(\u001b[0m\u001b[0mself\u001b[0m\u001b[0;34m,\u001b[0m \u001b[0mp\u001b[0m\u001b[0;34m)\u001b[0m \u001b[0;32mfor\u001b[0m \u001b[0mp\u001b[0m \u001b[0;32min\u001b[0m \u001b[0mself\u001b[0m\u001b[0;34m.\u001b[0m\u001b[0mestimator_params\u001b[0m\u001b[0;34m}\u001b[0m\u001b[0;34m)\u001b[0m\u001b[0;34m\u001b[0m\u001b[0;34m\u001b[0m\u001b[0m\n\u001b[0m\u001b[1;32m    143\u001b[0m \u001b[0;34m\u001b[0m\u001b[0m\n\u001b[1;32m    144\u001b[0m         \u001b[0;32mif\u001b[0m \u001b[0mrandom_state\u001b[0m \u001b[0;32mis\u001b[0m \u001b[0;32mnot\u001b[0m \u001b[0;32mNone\u001b[0m\u001b[0;34m:\u001b[0m\u001b[0;34m\u001b[0m\u001b[0;34m\u001b[0m\u001b[0m\n",
            "\u001b[0;32m/usr/local/lib/python3.11/dist-packages/sklearn/base.py\u001b[0m in \u001b[0;36mset_params\u001b[0;34m(self, **params)\u001b[0m\n\u001b[1;32m    274\u001b[0m             \u001b[0;31m# Simple optimization to gain speed (inspect is slow)\u001b[0m\u001b[0;34m\u001b[0m\u001b[0;34m\u001b[0m\u001b[0m\n\u001b[1;32m    275\u001b[0m             \u001b[0;32mreturn\u001b[0m \u001b[0mself\u001b[0m\u001b[0;34m\u001b[0m\u001b[0;34m\u001b[0m\u001b[0m\n\u001b[0;32m--> 276\u001b[0;31m         \u001b[0mvalid_params\u001b[0m \u001b[0;34m=\u001b[0m \u001b[0mself\u001b[0m\u001b[0;34m.\u001b[0m\u001b[0mget_params\u001b[0m\u001b[0;34m(\u001b[0m\u001b[0mdeep\u001b[0m\u001b[0;34m=\u001b[0m\u001b[0;32mTrue\u001b[0m\u001b[0;34m)\u001b[0m\u001b[0;34m\u001b[0m\u001b[0;34m\u001b[0m\u001b[0m\n\u001b[0m\u001b[1;32m    277\u001b[0m \u001b[0;34m\u001b[0m\u001b[0m\n\u001b[1;32m    278\u001b[0m         \u001b[0mnested_params\u001b[0m \u001b[0;34m=\u001b[0m \u001b[0mdefaultdict\u001b[0m\u001b[0;34m(\u001b[0m\u001b[0mdict\u001b[0m\u001b[0;34m)\u001b[0m  \u001b[0;31m# grouped by prefix\u001b[0m\u001b[0;34m\u001b[0m\u001b[0;34m\u001b[0m\u001b[0m\n",
            "\u001b[0;32m/usr/local/lib/python3.11/dist-packages/sklearn/base.py\u001b[0m in \u001b[0;36mget_params\u001b[0;34m(self, deep)\u001b[0m\n\u001b[1;32m    244\u001b[0m             \u001b[0mParameter\u001b[0m \u001b[0mnames\u001b[0m \u001b[0mmapped\u001b[0m \u001b[0mto\u001b[0m \u001b[0mtheir\u001b[0m \u001b[0mvalues\u001b[0m\u001b[0;34m.\u001b[0m\u001b[0;34m\u001b[0m\u001b[0;34m\u001b[0m\u001b[0m\n\u001b[1;32m    245\u001b[0m         \"\"\"\n\u001b[0;32m--> 246\u001b[0;31m         \u001b[0mout\u001b[0m \u001b[0;34m=\u001b[0m \u001b[0mdict\u001b[0m\u001b[0;34m(\u001b[0m\u001b[0;34m)\u001b[0m\u001b[0;34m\u001b[0m\u001b[0;34m\u001b[0m\u001b[0m\n\u001b[0m\u001b[1;32m    247\u001b[0m         \u001b[0;32mfor\u001b[0m \u001b[0mkey\u001b[0m \u001b[0;32min\u001b[0m \u001b[0mself\u001b[0m\u001b[0;34m.\u001b[0m\u001b[0m_get_param_names\u001b[0m\u001b[0;34m(\u001b[0m\u001b[0;34m)\u001b[0m\u001b[0;34m:\u001b[0m\u001b[0;34m\u001b[0m\u001b[0;34m\u001b[0m\u001b[0m\n\u001b[1;32m    248\u001b[0m             \u001b[0mvalue\u001b[0m \u001b[0;34m=\u001b[0m \u001b[0mgetattr\u001b[0m\u001b[0;34m(\u001b[0m\u001b[0mself\u001b[0m\u001b[0;34m,\u001b[0m \u001b[0mkey\u001b[0m\u001b[0;34m)\u001b[0m\u001b[0;34m\u001b[0m\u001b[0;34m\u001b[0m\u001b[0m\n",
            "\u001b[0;31mKeyboardInterrupt\u001b[0m: "
          ]
        }
      ]
    },
    {
      "cell_type": "code",
      "source": [
        "# Plot scores\n",
        "feature_range = [500, 1000, 2000]\n",
        "scores = [9893, 9929, 9929]\n",
        "plt.plot(feature_range, scores, marker='o')\n",
        "plt.xlabel(\"Number of Features Selected\")\n",
        "plt.ylabel(\"Cross-Validated Accuracy\")\n",
        "plt.title(\"RFE Tuning\")\n",
        "plt.grid(True)\n",
        "plt.show()"
      ],
      "metadata": {
        "colab": {
          "base_uri": "https://localhost:8080/",
          "height": 472
        },
        "id": "YDNfQFIm1XPk",
        "outputId": "55bf6255-ba7d-4087-84d0-e8ca33bc5ccd"
      },
      "execution_count": 4,
      "outputs": [
        {
          "output_type": "display_data",
          "data": {
            "text/plain": [
              "<Figure size 640x480 with 1 Axes>"
            ],
            "image/png": "[encoded data removed]"
          },
          "metadata": {}
        }
      ]
    },
    {
      "cell_type": "code",
      "source": [
        "# Final RFE with RandomForest (k = 500)\n",
        "final_rfe = RFE(estimator=RandomForestClassifier(n_estimators=100, random_state=42),\n",
        "                n_features_to_select=1000, step=50)\n",
        "final_rfe.fit(X_balanced, y_balanced)\n",
        "\n",
        "# Step 2: Transform labeled and unlabeled data\n",
        "X_bal_selected = final_rfe.transform(X_balanced)\n",
        "X_unl_selected = final_rfe.transform(X_unlabeled)\n",
        "\n",
        "# Step 4: Select features from test using RFE\n",
        "X_test_selected = final_rfe.transform(X_test)\n",
        "\n",
        "# Step 5: Save selected feature names\n",
        "selected_features = X_balanced.columns[final_rfe.support_]"
      ],
      "metadata": {
        "id": "wMG_T9vS1o56"
      },
      "execution_count": 75,
      "outputs": []
    },
    {
      "cell_type": "code",
      "source": [
        "print(X_bal_selected.shape)\n",
        "print(X_unl_selected.shape)\n",
        "print(X_test_selected.shape)"
      ],
      "metadata": {
        "colab": {
          "base_uri": "https://localhost:8080/"
        },
        "id": "uPS5oZsXVDVA",
        "outputId": "9c299e2d-c00f-47ac-accb-220aec0ed231"
      },
      "execution_count": 76,
      "outputs": [
        {
          "output_type": "stream",
          "name": "stdout",
          "text": [
            "(280, 1000)\n",
            "(250, 1000)\n",
            "(401, 1000)\n"
          ]
        }
      ]
    },
    {
      "cell_type": "code",
      "source": [
        "# Convert selected arrays to DataFrames\n",
        "X_bal_selected_df = pd.DataFrame(X_bal_selected, columns=selected_features)\n",
        "X_unl_selected_df = pd.DataFrame(X_unl_selected, columns=selected_features)\n",
        "X_test_selected_df = pd.DataFrame(X_test_selected, columns=selected_features)\n",
        "\n",
        "# Add class labels to X_bal_selected\n",
        "X_bal_selected_df['Class'] = y_balanced.values\n",
        "\n",
        "# Save to CSV files\n",
        "X_bal_selected_df.to_csv(\"train_bal_sel.csv\", index=False)\n",
        "X_unl_selected_df.to_csv(\"train_unl_sel.csv\", index=False)\n",
        "X_test_selected_df.to_csv(\"X_test_sel.csv\", index=False)\n",
        "\n",
        "# Save selected feature names\n",
        "pd.Series(selected_features).to_csv(\"selected_features_rf_1000.csv\", index=False)\n",
        "\n",
        "print(\"All datasets saved with IDs and class labels where applicable.\")"
      ],
      "metadata": {
        "colab": {
          "base_uri": "https://localhost:8080/"
        },
        "id": "xsIuYAV9XACi",
        "outputId": "299e10e3-212f-4d27-a581-d66a078ff774"
      },
      "execution_count": 78,
      "outputs": [
        {
          "output_type": "stream",
          "name": "stdout",
          "text": [
            "All datasets saved with IDs and class labels where applicable.\n"
          ]
        }
      ]
    },
    {
      "cell_type": "code",
      "source": [
        "from google.colab import files\n",
        "\n",
        "# Download files to local to use them for model training\n",
        "files.download(\"train_bal_sel.csv\")\n",
        "files.download(\"train_unl_sel.csv\")\n",
        "files.download(\"X_test_sel.csv\")\n",
        "files.download(\"selected_features_rf_1000.csv\")"
      ],
      "metadata": {
        "colab": {
          "base_uri": "https://localhost:8080/",
          "height": 17
        },
        "id": "L9xXgOAgW9ti",
        "outputId": "2248889c-0ce5-449c-c988-6379cf1ce6a7"
      },
      "execution_count": 80,
      "outputs": [
        {
          "output_type": "display_data",
          "data": {
            "text/plain": [
              "<IPython.core.display.Javascript object>"
            ],
            "application/javascript": [
              "\n",
              "    async function download(id, filename, size) {\n",
              "      if (!google.colab.kernel.accessAllowed) {\n",
              "        return;\n",
              "      }\n",
              "      const div = document.createElement('div');\n",
              "      const label = document.createElement('label');\n",
              "      label.textContent = `Downloading \"${filename}\": `;\n",
              "      div.appendChild(label);\n",
              "      const progress = document.createElement('progress');\n",
              "      progress.max = size;\n",
              "      div.appendChild(progress);\n",
              "      document.body.appendChild(div);\n",
              "\n",
              "      const buffers = [];\n",
              "      let downloaded = 0;\n",
              "\n",
              "      const channel = await google.colab.kernel.comms.open(id);\n",
              "      // Send a message to notify the kernel that we're ready.\n",
              "      channel.send({})\n",
              "\n",
              "      for await (const message of channel.messages) {\n",
              "        // Send a message to notify the kernel that we're ready.\n",
              "        channel.send({})\n",
              "        if (message.buffers) {\n",
              "          for (const buffer of message.buffers) {\n",
              "            buffers.push(buffer);\n",
              "            downloaded += buffer.byteLength;\n",
              "            progress.value = downloaded;\n",
              "          }\n",
              "        }\n",
              "      }\n",
              "      const blob = new Blob(buffers, {type: 'application/binary'});\n",
              "      const a = document.createElement('a');\n",
              "      a.href = window.URL.createObjectURL(blob);\n",
              "      a.download = filename;\n",
              "      div.appendChild(a);\n",
              "      a.click();\n",
              "      div.remove();\n",
              "    }\n",
              "  "
            ]
          },
          "metadata": {}
        },
        {
          "output_type": "display_data",
          "data": {
            "text/plain": [
              "<IPython.core.display.Javascript object>"
            ],
            "application/javascript": [
              "download(\"download_99eff769-b12e-4db5-93e0-e25a047b16e2\", \"train_bal_sel.csv\", 5526708)"
            ]
          },
          "metadata": {}
        },
        {
          "output_type": "display_data",
          "data": {
            "text/plain": [
              "<IPython.core.display.Javascript object>"
            ],
            "application/javascript": [
              "\n",
              "    async function download(id, filename, size) {\n",
              "      if (!google.colab.kernel.accessAllowed) {\n",
              "        return;\n",
              "      }\n",
              "      const div = document.createElement('div');\n",
              "      const label = document.createElement('label');\n",
              "      label.textContent = `Downloading \"${filename}\": `;\n",
              "      div.appendChild(label);\n",
              "      const progress = document.createElement('progress');\n",
              "      progress.max = size;\n",
              "      div.appendChild(progress);\n",
              "      document.body.appendChild(div);\n",
              "\n",
              "      const buffers = [];\n",
              "      let downloaded = 0;\n",
              "\n",
              "      const channel = await google.colab.kernel.comms.open(id);\n",
              "      // Send a message to notify the kernel that we're ready.\n",
              "      channel.send({})\n",
              "\n",
              "      for await (const message of channel.messages) {\n",
              "        // Send a message to notify the kernel that we're ready.\n",
              "        channel.send({})\n",
              "        if (message.buffers) {\n",
              "          for (const buffer of message.buffers) {\n",
              "            buffers.push(buffer);\n",
              "            downloaded += buffer.byteLength;\n",
              "            progress.value = downloaded;\n",
              "          }\n",
              "        }\n",
              "      }\n",
              "      const blob = new Blob(buffers, {type: 'application/binary'});\n",
              "      const a = document.createElement('a');\n",
              "      a.href = window.URL.createObjectURL(blob);\n",
              "      a.download = filename;\n",
              "      div.appendChild(a);\n",
              "      a.click();\n",
              "      div.remove();\n",
              "    }\n",
              "  "
            ]
          },
          "metadata": {}
        },
        {
          "output_type": "display_data",
          "data": {
            "text/plain": [
              "<IPython.core.display.Javascript object>"
            ],
            "application/javascript": [
              "download(\"download_79504440-481d-4f9e-9b06-40db527badfa\", \"train_unl_sel.csv\", 4890750)"
            ]
          },
          "metadata": {}
        },
        {
          "output_type": "display_data",
          "data": {
            "text/plain": [
              "<IPython.core.display.Javascript object>"
            ],
            "application/javascript": [
              "\n",
              "    async function download(id, filename, size) {\n",
              "      if (!google.colab.kernel.accessAllowed) {\n",
              "        return;\n",
              "      }\n",
              "      const div = document.createElement('div');\n",
              "      const label = document.createElement('label');\n",
              "      label.textContent = `Downloading \"${filename}\": `;\n",
              "      div.appendChild(label);\n",
              "      const progress = document.createElement('progress');\n",
              "      progress.max = size;\n",
              "      div.appendChild(progress);\n",
              "      document.body.appendChild(div);\n",
              "\n",
              "      const buffers = [];\n",
              "      let downloaded = 0;\n",
              "\n",
              "      const channel = await google.colab.kernel.comms.open(id);\n",
              "      // Send a message to notify the kernel that we're ready.\n",
              "      channel.send({})\n",
              "\n",
              "      for await (const message of channel.messages) {\n",
              "        // Send a message to notify the kernel that we're ready.\n",
              "        channel.send({})\n",
              "        if (message.buffers) {\n",
              "          for (const buffer of message.buffers) {\n",
              "            buffers.push(buffer);\n",
              "            downloaded += buffer.byteLength;\n",
              "            progress.value = downloaded;\n",
              "          }\n",
              "        }\n",
              "      }\n",
              "      const blob = new Blob(buffers, {type: 'application/binary'});\n",
              "      const a = document.createElement('a');\n",
              "      a.href = window.URL.createObjectURL(blob);\n",
              "      a.download = filename;\n",
              "      div.appendChild(a);\n",
              "      a.click();\n",
              "      div.remove();\n",
              "    }\n",
              "  "
            ]
          },
          "metadata": {}
        },
        {
          "output_type": "display_data",
          "data": {
            "text/plain": [
              "<IPython.core.display.Javascript object>"
            ],
            "application/javascript": [
              "download(\"download_67e26c6c-8189-4e19-87bd-75bbc9ebb95c\", \"X_test_sel.csv\", 7843536)"
            ]
          },
          "metadata": {}
        },
        {
          "output_type": "display_data",
          "data": {
            "text/plain": [
              "<IPython.core.display.Javascript object>"
            ],
            "application/javascript": [
              "\n",
              "    async function download(id, filename, size) {\n",
              "      if (!google.colab.kernel.accessAllowed) {\n",
              "        return;\n",
              "      }\n",
              "      const div = document.createElement('div');\n",
              "      const label = document.createElement('label');\n",
              "      label.textContent = `Downloading \"${filename}\": `;\n",
              "      div.appendChild(label);\n",
              "      const progress = document.createElement('progress');\n",
              "      progress.max = size;\n",
              "      div.appendChild(progress);\n",
              "      document.body.appendChild(div);\n",
              "\n",
              "      const buffers = [];\n",
              "      let downloaded = 0;\n",
              "\n",
              "      const channel = await google.colab.kernel.comms.open(id);\n",
              "      // Send a message to notify the kernel that we're ready.\n",
              "      channel.send({})\n",
              "\n",
              "      for await (const message of channel.messages) {\n",
              "        // Send a message to notify the kernel that we're ready.\n",
              "        channel.send({})\n",
              "        if (message.buffers) {\n",
              "          for (const buffer of message.buffers) {\n",
              "            buffers.push(buffer);\n",
              "            downloaded += buffer.byteLength;\n",
              "            progress.value = downloaded;\n",
              "          }\n",
              "        }\n",
              "      }\n",
              "      const blob = new Blob(buffers, {type: 'application/binary'});\n",
              "      const a = document.createElement('a');\n",
              "      a.href = window.URL.createObjectURL(blob);\n",
              "      a.download = filename;\n",
              "      div.appendChild(a);\n",
              "      a.click();\n",
              "      div.remove();\n",
              "    }\n",
              "  "
            ]
          },
          "metadata": {}
        },
        {
          "output_type": "display_data",
          "data": {
            "text/plain": [
              "<IPython.core.display.Javascript object>"
            ],
            "application/javascript": [
              "download(\"download_7f8106c7-24e3-44d9-ac2b-29c28c4d6a25\", \"selected_features_rf_1000.csv\", 10035)"
            ]
          },
          "metadata": {}
        }
      ]
    },
    {
      "cell_type": "code",
      "source": [],
      "metadata": {
        "id": "qnatE0wlaJFt"
      },
      "execution_count": null,
      "outputs": []
    }
  ]
}