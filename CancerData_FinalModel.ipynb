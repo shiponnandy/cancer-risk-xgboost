{
  "cells": [
    {
      "cell_type": "code",
      "execution_count": null,
      "metadata": {
        "id": "u3jSU7Q8jnTw"
      },
      "outputs": [],
      "source": [
        "# data preprocessing ipynb file\n",
        "\n",
        "# %run \"/content/drive/MyDrive/Colab Notebooks/cancer_data_preprocessing.ipynb\""
      ]
    },
    {
      "cell_type": "code",
      "execution_count": null,
      "metadata": {
        "id": "4ohkY23bQWcw"
      },
      "outputs": [],
      "source": [
        "import pandas as pd\n",
        "import numpy as np\n",
        "import matplotlib.pyplot as plt\n",
        "import seaborn as sns"
      ]
    },
    {
      "cell_type": "code",
      "execution_count": null,
      "metadata": {
        "colab": {
          "base_uri": "https://localhost:8080/"
        },
        "id": "r30B9IEmN7N6",
        "outputId": "b59fbeff-1c6f-415b-baa8-6d078c1fe69c"
      },
      "outputs": [
        {
          "output_type": "stream",
          "name": "stdout",
          "text": [
            "Mounted at /content/drive\n"
          ]
        }
      ],
      "source": [
        "from google.colab import drive\n",
        "drive.mount('/content/drive')"
      ]
    },
    {
      "cell_type": "code",
      "execution_count": null,
      "metadata": {
        "colab": {
          "base_uri": "https://localhost:8080/"
        },
        "id": "sC9R7lBOPCLR",
        "outputId": "ba24690a-6cc5-4128-a432-753b35807468"
      },
      "outputs": [
        {
          "output_type": "stream",
          "name": "stdout",
          "text": [
            "(280, 1001)\n",
            "(250, 1000)\n",
            "(401, 1000)\n"
          ]
        }
      ],
      "source": [
        "folder = \"/content/drive/MyDrive/Colab Notebooks/DATASET/cancer/\"\n",
        "\n",
        "# Read labeled balanced dataset\n",
        "train_bal_sel = pd.read_csv(folder + \"train_bal_sel.csv\")\n",
        "\n",
        "# Read unlabeled selected dataset\n",
        "train_unl_sel = pd.read_csv(folder + \"train_unl_sel.csv\")\n",
        "\n",
        "# Read test set with selected features\n",
        "test_sel= pd.read_csv(folder + \"X_test_sel.csv\")\n",
        "\n",
        "print(train_bal_sel.shape)\n",
        "print(train_unl_sel.shape)\n",
        "print(test_sel.shape)"
      ]
    },
    {
      "cell_type": "code",
      "execution_count": 13,
      "metadata": {
        "id": "8Thno-v1Qj-B",
        "colab": {
          "base_uri": "https://localhost:8080/"
        },
        "outputId": "8b022d9a-8cef-4191-bf60-3df12eb4f2cc"
      },
      "outputs": [
        {
          "output_type": "stream",
          "name": "stdout",
          "text": [
            "(280, 1000)\n",
            "(280,)\n"
          ]
        }
      ],
      "source": [
        "# Splitting the labeled dataframe into X and y\n",
        "X_train_lab = train_bal_sel.drop(columns=[\"Class\"])\n",
        "y_train_lab = train_bal_sel[\"Class\"]\n",
        "\n",
        "print(X_train_lab.shape)\n",
        "print(y_train_lab.shape)"
      ]
    },
    {
      "cell_type": "markdown",
      "source": [
        "Using XGBclassifier to train the labelled data.\n",
        "\n",
        "*   Using GridSearchCV with custom parameter grid with 5 fold cross-validation to find the best model prameters\n",
        "\n"
      ],
      "metadata": {
        "id": "9bYzWobHI-0g"
      }
    },
    {
      "cell_type": "code",
      "execution_count": 14,
      "metadata": {
        "colab": {
          "base_uri": "https://localhost:8080/"
        },
        "id": "raLsqqW8S91W",
        "outputId": "dfd501da-ac9f-48cd-eb2a-a53d7e1c9df2"
      },
      "outputs": [
        {
          "output_type": "stream",
          "name": "stdout",
          "text": [
            "Fitting 5 folds for each of 16 candidates, totalling 80 fits\n",
            "Best Parameters: {'colsample_bytree': 0.8, 'gamma': 0, 'learning_rate': 0.05, 'max_depth': 5, 'n_estimators': 1200, 'subsample': 0.8}\n",
            "Best CV log loss: -0.0582\n"
          ]
        }
      ],
      "source": [
        "from xgboost import XGBClassifier\n",
        "from sklearn.model_selection import GridSearchCV\n",
        "from sklearn.metrics import classification_report, accuracy_score, confusion_matrix, f1_score, precision_score, recall_score\n",
        "\n",
        "# Define parameter grid for tuning\n",
        "param_grid = {\n",
        "    'n_estimators': [300, 500, 800, 1200],\n",
        "    'max_depth': [5, 7],\n",
        "    'learning_rate': [0.05, 0.1],\n",
        "    'subsample': [0.8],\n",
        "    'colsample_bytree': [0.8],\n",
        "    'gamma': [0]\n",
        "}\n",
        "\n",
        "# Initialize XGBoost Classifier\n",
        "xgb = XGBClassifier(\n",
        "    objective='multi:softprob',\n",
        "    num_class=5,\n",
        "    eval_metric='mlogloss',\n",
        "    random_state=42\n",
        ")\n",
        "\n",
        "# Perform Grid Search with Cross-Validation\n",
        "grid_search = GridSearchCV (\n",
        "    estimator=xgb,\n",
        "    param_grid=param_grid,\n",
        "    scoring='neg_log_loss',\n",
        "    cv=5,\n",
        "    verbose=2,\n",
        "    n_jobs=-1\n",
        ")\n",
        "\n",
        "# Fit on labeled training data\n",
        "grid_search.fit(X_train_lab, y_train_lab)\n",
        "\n",
        "# Best Parameters and Score\n",
        "print(\"Best Parameters:\", grid_search.best_params_)\n",
        "print(\"Best CV log loss: {:.4f}\".format(grid_search.best_score_))"
      ]
    },
    {
      "cell_type": "code",
      "execution_count": 15,
      "metadata": {
        "id": "sYBd-dFbWaHn",
        "colab": {
          "base_uri": "https://localhost:8080/"
        },
        "outputId": "933c5d00-0c1a-48fd-9d2c-0e4e21713050"
      },
      "outputs": [
        {
          "output_type": "stream",
          "name": "stdout",
          "text": [
            "Best Model:\n",
            " XGBClassifier(base_score=None, booster=None, callbacks=None,\n",
            "              colsample_bylevel=None, colsample_bynode=None,\n",
            "              colsample_bytree=0.8, device=None, early_stopping_rounds=None,\n",
            "              enable_categorical=False, eval_metric='mlogloss',\n",
            "              feature_types=None, gamma=0, grow_policy=None,\n",
            "              importance_type=None, interaction_constraints=None,\n",
            "              learning_rate=0.05, max_bin=None, max_cat_threshold=None,\n",
            "              max_cat_to_onehot=None, max_delta_step=None, max_depth=5,\n",
            "              max_leaves=None, min_child_weight=None, missing=nan,\n",
            "              monotone_constraints=None, multi_strategy=None, n_estimators=1200,\n",
            "              n_jobs=None, num_class=5, num_parallel_tree=None, ...)\n"
          ]
        }
      ],
      "source": [
        "# saving the best model\n",
        "best_model = grid_search.best_estimator_\n",
        "print(\"Best Model:\\n\", best_model)"
      ]
    },
    {
      "cell_type": "markdown",
      "source": [
        "SEMI-SUPERVISED\n",
        "* Using the best model we are predicting the class label for the unlabeled\n",
        "dataframe\n",
        "* Thus creating pseudo label for unlabeled dataset"
      ],
      "metadata": {
        "id": "ZCMUXVNQJlo8"
      }
    },
    {
      "cell_type": "code",
      "execution_count": 16,
      "metadata": {
        "id": "MkOsCqpTbyRL"
      },
      "outputs": [],
      "source": [
        "# Predict on unlabeled data (for semi-supervised)\n",
        "unlabeled_probs = best_model.predict_proba(train_unl_sel)\n",
        "# pseudo label\n",
        "unlabeled_preds = np.argmax(unlabeled_probs, axis=1)"
      ]
    },
    {
      "cell_type": "markdown",
      "source": [
        "Combined the labled and unlabeled dataset\n",
        "* created X_all (labeled + unlabeled) features\n",
        "* created y_all (class from labeled data + pseudo label from unlabeled data)"
      ],
      "metadata": {
        "id": "SIPRdQ6HKCtv"
      }
    },
    {
      "cell_type": "markdown",
      "source": [
        "# FINAL MODEL TRAINING"
      ],
      "metadata": {
        "id": "lOnUGxonZt_S"
      }
    },
    {
      "cell_type": "code",
      "execution_count": 1,
      "metadata": {
        "id": "VttNiPOGbyOp",
        "colab": {
          "base_uri": "https://localhost:8080/",
          "height": 211
        },
        "outputId": "bf699026-ee39-4541-eb10-c539d0a28b61"
      },
      "outputs": [
        {
          "output_type": "error",
          "ename": "NameError",
          "evalue": "name 'np' is not defined",
          "traceback": [
            "\u001b[0;31m---------------------------------------------------------------------------\u001b[0m",
            "\u001b[0;31mNameError\u001b[0m                                 Traceback (most recent call last)",
            "\u001b[0;32m/tmp/ipython-input-1-1103023710.py\u001b[0m in \u001b[0;36m<cell line: 0>\u001b[0;34m()\u001b[0m\n\u001b[1;32m      1\u001b[0m \u001b[0;31m# Combine labeled + pseudo-labeled\u001b[0m\u001b[0;34m\u001b[0m\u001b[0;34m\u001b[0m\u001b[0m\n\u001b[0;32m----> 2\u001b[0;31m \u001b[0mX_all\u001b[0m \u001b[0;34m=\u001b[0m \u001b[0mnp\u001b[0m\u001b[0;34m.\u001b[0m\u001b[0mvstack\u001b[0m\u001b[0;34m(\u001b[0m\u001b[0;34m[\u001b[0m\u001b[0mX_train_lab\u001b[0m\u001b[0;34m,\u001b[0m \u001b[0mtrain_unl_sel\u001b[0m\u001b[0;34m]\u001b[0m\u001b[0;34m)\u001b[0m\u001b[0;34m\u001b[0m\u001b[0;34m\u001b[0m\u001b[0m\n\u001b[0m\u001b[1;32m      3\u001b[0m \u001b[0my_all\u001b[0m \u001b[0;34m=\u001b[0m \u001b[0mnp\u001b[0m\u001b[0;34m.\u001b[0m\u001b[0mhstack\u001b[0m\u001b[0;34m(\u001b[0m\u001b[0;34m[\u001b[0m\u001b[0my_train_lab\u001b[0m\u001b[0;34m,\u001b[0m \u001b[0munlabeled_preds\u001b[0m\u001b[0;34m]\u001b[0m\u001b[0;34m)\u001b[0m\u001b[0;34m\u001b[0m\u001b[0;34m\u001b[0m\u001b[0m\n\u001b[1;32m      4\u001b[0m \u001b[0;34m\u001b[0m\u001b[0m\n\u001b[1;32m      5\u001b[0m \u001b[0;31m# Training the final model using the best model parameters\u001b[0m\u001b[0;34m\u001b[0m\u001b[0;34m\u001b[0m\u001b[0m\n",
            "\u001b[0;31mNameError\u001b[0m: name 'np' is not defined"
          ]
        }
      ],
      "source": [
        "# Combine labeled + pseudo-labeled\n",
        "X_all = np.vstack([X_train_lab, train_unl_sel])\n",
        "y_all = np.hstack([y_train_lab, unlabeled_preds])\n",
        "\n",
        "# Training the final model using the best model parameters\n",
        "final_model = XGBClassifier(\n",
        "    **grid_search.best_params_,\n",
        "    objective='multi:softprob',\n",
        "    num_class=5,\n",
        "    eval_metric='mlogloss',\n",
        "    random_state=42,\n",
        ")\n",
        "\n",
        "# Fit on combined data\n",
        "final_model.fit(X_all, y_all)"
      ]
    },
    {
      "cell_type": "markdown",
      "source": [
        "# Predition on test data"
      ],
      "metadata": {
        "id": "YV3iEgf-ZcjB"
      }
    },
    {
      "cell_type": "code",
      "execution_count": 22,
      "metadata": {
        "id": "ZivMhhgud1OD"
      },
      "outputs": [],
      "source": [
        "# Predict on test set\n",
        "test_probs = final_model.predict_proba(test_sel)\n",
        "# Prediction on test data saved as test_preds\n",
        "test_preds = np.argmax(test_probs, axis=1)"
      ]
    },
    {
      "cell_type": "code",
      "execution_count": 23,
      "metadata": {
        "id": "oS7R1jrqeBIM",
        "colab": {
          "base_uri": "https://localhost:8080/",
          "height": 472
        },
        "outputId": "5ffc3ffa-2343-4038-ebc5-d55ea95412bf"
      },
      "outputs": [
        {
          "output_type": "display_data",
          "data": {
            "text/plain": [
              "<Figure size 640x480 with 1 Axes>"
            ],
            "image/png": "[encoded data removed]"
          },
          "metadata": {}
        }
      ],
      "source": [
        "# Predicted class distribution\n",
        "sns.countplot(x=test_preds)\n",
        "plt.title(\"Predicted Class Distribution on Test Set\")\n",
        "plt.xlabel(\"Class\")\n",
        "plt.ylabel(\"Count\")\n",
        "plt.show()"
      ]
    },
    {
      "cell_type": "code",
      "execution_count": 24,
      "metadata": {
        "id": "AR-v8zldigGI",
        "colab": {
          "base_uri": "https://localhost:8080/",
          "height": 472
        },
        "outputId": "17d9d461-d61c-4e01-bcd6-a9f1dfd0cfbb"
      },
      "outputs": [
        {
          "output_type": "display_data",
          "data": {
            "text/plain": [
              "<Figure size 640x480 with 1 Axes>"
            ],
            "image/png": "[encoded data removed]"
          },
          "metadata": {}
        }
      ],
      "source": [
        "# Predicted class probabilities\n",
        "# Histogram of confidence per prediction\n",
        "max_confidences = np.max(test_probs, axis=1)\n",
        "plt.hist(max_confidences, bins=20)\n",
        "plt.title(\"Prediction Confidence Distribution\")\n",
        "plt.xlabel(\"Max Probability (Confidence)\")\n",
        "plt.ylabel(\"Number of Samples\")\n",
        "plt.show()"
      ]
    },
    {
      "cell_type": "code",
      "execution_count": 25,
      "metadata": {
        "id": "WejMgjwHbyGL"
      },
      "outputs": [],
      "source": [
        "# Extracting the Id from original test data\n",
        "\n",
        "original_test = pd.read_csv(folder + \"test.csv\")\n",
        "test_id = original_test[\"Id\"]"
      ]
    },
    {
      "cell_type": "code",
      "execution_count": 26,
      "metadata": {
        "id": "ZGicA6Wid1Qc",
        "colab": {
          "base_uri": "https://localhost:8080/"
        },
        "outputId": "158305d2-fc61-4dc5-b614-13a4d4d271d0"
      },
      "outputs": [
        {
          "output_type": "stream",
          "name": "stdout",
          "text": [
            "Saved as 'result_on_selected_test.csv' in Google Drive\n"
          ]
        }
      ],
      "source": [
        "# Saving the predition in CSV\n",
        "\n",
        "submission = pd.DataFrame({\n",
        "    'Id': test_id,\n",
        "    'Class': test_preds\n",
        "})\n",
        "\n",
        "# Save to Google Drive with your desired filename\n",
        "submission.to_csv(folder + \"result_on_selected_test.csv\", index=False)\n",
        "print(\"Saved as 'result_on_selected_test.csv' in Google Drive\")\n"
      ]
    },
    {
      "cell_type": "code",
      "source": [],
      "metadata": {
        "id": "WdKdcCx4Ouad"
      },
      "execution_count": null,
      "outputs": []
    }
  ],
  "metadata": {
    "colab": {
      "provenance": [],
      "toc_visible": true
    },
    "kernelspec": {
      "display_name": "Python 3",
      "name": "python3"
    },
    "language_info": {
      "name": "python"
    }
  },
  "nbformat": 4,
  "nbformat_minor": 0
}